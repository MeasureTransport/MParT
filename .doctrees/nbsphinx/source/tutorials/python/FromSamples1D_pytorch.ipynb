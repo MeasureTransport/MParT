{
 "cells": [
  {
   "cell_type": "markdown",
   "id": "4912035c",
   "metadata": {},
   "source": [
    "# Pytorch Integration\n",
    "This example demonstrates how to train and use an MParT-based transport map \n",
    "in a larger pytorch model.  To illustrate, a regression problem with heteroscedastic\n",
    "noise will be considered.  \n",
    "\n",
    "The goal of this problem is to characterize a conditional distribution $p(y|x)$,\n",
    "where $x,y\\in\\mathbb{R}$.  To characterize this distribution, we will construct \n",
    "a conditional transport map of the form $T(y; f(x))$, where $f:\\mathbb{R}\\rightarrow\\mathbb{R}^M$\n",
    "is a feature extractor that returns an $M$ dimensional vector.  This feature extractor \n",
    "will be defined with a neural network (pytorch) while the map itself $T:\\mathbb{R}^{M+1}\\rightarrow\\mathbb{R}$\n",
    "is defined with a polynomial-based monotone map (MParT)."
   ]
  },
  {
   "cell_type": "code",
   "execution_count": 1,
   "id": "2e298945",
   "metadata": {
    "execution": {
     "iopub.execute_input": "2024-03-21T17:44:30.003942Z",
     "iopub.status.busy": "2024-03-21T17:44:30.003772Z",
     "iopub.status.idle": "2024-03-21T17:44:31.351255Z",
     "shell.execute_reply": "2024-03-21T17:44:31.350706Z"
    },
    "lines_to_next_cell": 2
   },
   "outputs": [],
   "source": [
    "import matplotlib.pyplot as plt\n",
    "import torch\n",
    "import mpart as mt"
   ]
  },
  {
   "cell_type": "markdown",
   "id": "e11d70d9",
   "metadata": {},
   "source": [
    "## Generate Training Data "
   ]
  },
  {
   "cell_type": "code",
   "execution_count": 2,
   "id": "0f75bdfd",
   "metadata": {
    "execution": {
     "iopub.execute_input": "2024-03-21T17:44:31.353965Z",
     "iopub.status.busy": "2024-03-21T17:44:31.353681Z",
     "iopub.status.idle": "2024-03-21T17:44:31.358942Z",
     "shell.execute_reply": "2024-03-21T17:44:31.358524Z"
    }
   },
   "outputs": [],
   "source": [
    "num_pts = 1000\n",
    "x_train = torch.linspace(-2.0*torch.pi, 2.0*torch.pi, num_pts, dtype=torch.double)\n",
    "y_true = torch.sin(x_train)\n",
    "y_train = y_true + 0.5*torch.abs(1.0+torch.cos(x_train))*torch.randn(num_pts)"
   ]
  },
  {
   "cell_type": "code",
   "execution_count": 3,
   "id": "b6a49faf",
   "metadata": {
    "execution": {
     "iopub.execute_input": "2024-03-21T17:44:31.360752Z",
     "iopub.status.busy": "2024-03-21T17:44:31.360587Z",
     "iopub.status.idle": "2024-03-21T17:44:31.363991Z",
     "shell.execute_reply": "2024-03-21T17:44:31.363533Z"
    },
    "lines_to_next_cell": 2
   },
   "outputs": [],
   "source": [
    "dataset = torch.utils.data.TensorDataset(x_train.reshape(-1,1), y_train.reshape(-1,1)) \n",
    "dataloader = torch.utils.data.DataLoader(dataset, batch_size=128, shuffle=True)\n",
    "num_epochs = 200"
   ]
  },
  {
   "cell_type": "markdown",
   "id": "991e3bf2",
   "metadata": {},
   "source": [
    "##  Define the hybrid model"
   ]
  },
  {
   "cell_type": "code",
   "execution_count": 4,
   "id": "e83f59bd",
   "metadata": {
    "execution": {
     "iopub.execute_input": "2024-03-21T17:44:31.365976Z",
     "iopub.status.busy": "2024-03-21T17:44:31.365665Z",
     "iopub.status.idle": "2024-03-21T17:44:31.368052Z",
     "shell.execute_reply": "2024-03-21T17:44:31.367596Z"
    }
   },
   "outputs": [],
   "source": [
    "maxDegree = 3 # <- The maximum total order of the map $T$\n",
    "tgt_dim = 1 # <- The dimension of the target random variable $y$\n",
    "cond_dim = 2 # <- The number of features $M$ returned by the neural network"
   ]
  },
  {
   "cell_type": "markdown",
   "id": "456631ec",
   "metadata": {},
   "source": [
    "#### MParT map Construction\n",
    "Here we construct the 3->1 dimensional map in the typical fashion of MParT but \n",
    "using options that help make the map robust to inputs."
   ]
  },
  {
   "cell_type": "code",
   "execution_count": 5,
   "id": "72cbe13b",
   "metadata": {
    "execution": {
     "iopub.execute_input": "2024-03-21T17:44:31.369914Z",
     "iopub.status.busy": "2024-03-21T17:44:31.369750Z",
     "iopub.status.idle": "2024-03-21T17:44:31.372355Z",
     "shell.execute_reply": "2024-03-21T17:44:31.371917Z"
    },
    "lines_to_next_cell": 1
   },
   "outputs": [],
   "source": [
    "opts = mt.MapOptions()\n",
    "opts.basisLB = -2.5\n",
    "opts.basisUB = 2.5\n",
    "opts.nugget = 0.001\n",
    "tmap = mt.CreateTriangular(cond_dim+tgt_dim, tgt_dim, maxDegree, opts) # Simple third order map"
   ]
  },
  {
   "cell_type": "markdown",
   "id": "7edd3084",
   "metadata": {},
   "source": [
    "#### Hybrid Construction\n",
    "We can now create a torch model for the composition $T(y; f(x))$.  The `.torch()` function\n",
    "from the MParT map returns a torch.nn.Module that can be used as a native pytorch object.\n",
    "The autograd functionality in pytorch can also be used with this function."
   ]
  },
  {
   "cell_type": "code",
   "execution_count": 6,
   "id": "57dd82af",
   "metadata": {
    "execution": {
     "iopub.execute_input": "2024-03-21T17:44:31.374144Z",
     "iopub.status.busy": "2024-03-21T17:44:31.373982Z",
     "iopub.status.idle": "2024-03-21T17:44:31.377772Z",
     "shell.execute_reply": "2024-03-21T17:44:31.377322Z"
    }
   },
   "outputs": [],
   "source": [
    "class MapModel(torch.nn.Module):\n",
    "    def __init__(self, tmap):\n",
    "        super().__init__()\n",
    "        self.linear1 = torch.nn.Linear(1, 300, dtype=torch.double)\n",
    "        self.activation = torch.nn.LeakyReLU()\n",
    "        self.linear2 = torch.nn.Linear(300, cond_dim, dtype=torch.double)\n",
    "        self.tmap = tmap.torch(return_logdet=True)\n",
    "\n",
    "    def forward(self, x, y):\n",
    "        x = self.linear1(x)\n",
    "        x = self.activation(x)\n",
    "        x = self.linear2(x)\n",
    "\n",
    "        x = torch.hstack([x,y])\n",
    "        r, logdet = self.tmap.forward(x)\n",
    "\n",
    "        return r, logdet\n",
    "\n",
    "    def inverse(self, x, r):\n",
    "        \"\"\" This is an additional function for computing the inverse of $T$ to compute $y$ from $r$.\n",
    "        \"\"\"\n",
    "        x = self.linear1(x)\n",
    "        x = self.activation(x)\n",
    "        x = self.linear2(x)\n",
    "        x = torch.hstack([x,r])\n",
    "\n",
    "        y = self.tmap.inverse(x,r)\n",
    "\n",
    "        return y"
   ]
  },
  {
   "cell_type": "code",
   "execution_count": 7,
   "id": "729d2103",
   "metadata": {
    "execution": {
     "iopub.execute_input": "2024-03-21T17:44:31.379627Z",
     "iopub.status.busy": "2024-03-21T17:44:31.379462Z",
     "iopub.status.idle": "2024-03-21T17:44:31.382397Z",
     "shell.execute_reply": "2024-03-21T17:44:31.381991Z"
    }
   },
   "outputs": [],
   "source": [
    "model = MapModel(tmap)"
   ]
  },
  {
   "cell_type": "markdown",
   "id": "54bb3800",
   "metadata": {
    "lines_to_next_cell": 2
   },
   "source": [
    "## Train the model\n",
    "Here we use the negative log likelihood as a training function.\n",
    "\n",
    "Given a value of $x$, the hybrid function $r=T(y; f(x))$ defines a monotone transformation\n",
    "that can be used to transform probability distributions.  By assuming the distribution \n",
    "of $r$ is $\\mu_r$, we can define a map-induced distribution over $y$ given by the pull back\n",
    "of the reference measure $\\mu_r$ through the map: $\\mu_y=T^{\\sharp}\\mu_r$.  The log density of this \n",
    "distribution is proportinoal to $\\log p( T(y; f(x)) ) + \\log \\text{det}\\nabla_y T$, where $\n",
    "$p(r)$ is the density of the reference distribution.  To compute the parameters of the map and \n",
    "the weights of the neural network, we will maximize the likelihood of the training data according\n",
    "to this map-induced density and the assumption that $p(r)=N(0,1)$ is standard normal."
   ]
  },
  {
   "cell_type": "code",
   "execution_count": 8,
   "id": "2ed99452",
   "metadata": {
    "execution": {
     "iopub.execute_input": "2024-03-21T17:44:31.384172Z",
     "iopub.status.busy": "2024-03-21T17:44:31.384006Z",
     "iopub.status.idle": "2024-03-21T17:44:35.201985Z",
     "shell.execute_reply": "2024-03-21T17:44:35.201554Z"
    }
   },
   "outputs": [
    {
     "name": "stdout",
     "output_type": "stream",
     "text": [
      "Loss: 7.5616e-01\n",
      "Loss: 7.2642e-01\n",
      "Loss: 5.6518e-01\n",
      "Loss: 5.8959e-01\n",
      "Loss: 4.8800e-01\n",
      "Loss: 4.9163e-01\n",
      "Loss: 5.4666e-01\n",
      "Loss: 3.9335e-01\n",
      "Loss: 4.6073e-01\n",
      "Loss: 3.7487e-01\n",
      "Loss: 2.9411e-01\n",
      "Loss: 4.5859e-01\n"
     ]
    },
    {
     "name": "stdout",
     "output_type": "stream",
     "text": [
      "Loss: 3.6906e-01\n",
      "Loss: 5.6659e-01\n",
      "Loss: 3.1979e-01\n",
      "Loss: 4.6362e-01\n",
      "Loss: 3.1632e-01\n",
      "Loss: 2.3058e-01\n",
      "Loss: 4.3716e-01\n",
      "Loss: 2.4804e-01\n",
      "Loss: 3.0798e-01\n",
      "Loss: 3.8894e-01\n",
      "Loss: 3.5591e-01\n"
     ]
    },
    {
     "name": "stdout",
     "output_type": "stream",
     "text": [
      "Loss: 3.3403e-01\n",
      "Loss: 2.8627e-01\n",
      "Loss: 3.0512e-01\n",
      "Loss: 1.8854e-01\n",
      "Loss: 2.0939e-01\n",
      "Loss: 4.1523e-01\n",
      "Loss: 3.3083e-01\n",
      "Loss: 3.7143e-01\n",
      "Loss: 4.5206e-01\n",
      "Loss: 2.9753e-01\n",
      "Loss: 1.6832e-01\n"
     ]
    },
    {
     "name": "stdout",
     "output_type": "stream",
     "text": [
      "Loss: 3.1192e-01\n",
      "Loss: 2.0014e-01\n",
      "Loss: 3.4407e-01\n",
      "Loss: 4.0682e-01\n",
      "Loss: 3.2256e-01\n",
      "Loss: 2.3616e-01\n",
      "Loss: 2.1939e-01\n",
      "Loss: 1.8684e-01\n",
      "Loss: 3.6414e-01\n",
      "Loss: 3.3932e-01\n",
      "Loss: 1.8790e-01\n"
     ]
    },
    {
     "name": "stdout",
     "output_type": "stream",
     "text": [
      "Loss: 3.9553e-01\n",
      "Loss: 3.6848e-01\n",
      "Loss: 1.4769e-01\n",
      "Loss: 2.9607e-01\n",
      "Loss: 2.7757e-01\n",
      "Loss: 2.2084e-01\n",
      "Loss: 1.6457e-01\n",
      "Loss: 2.6668e-01\n",
      "Loss: 2.7226e-01\n",
      "Loss: 2.6556e-01\n",
      "Loss: 1.4345e-01\n"
     ]
    },
    {
     "name": "stdout",
     "output_type": "stream",
     "text": [
      "Loss: 2.0204e-01\n",
      "Loss: 3.1712e-02\n",
      "Loss: 2.6183e-01\n",
      "Loss: 7.3436e-02\n",
      "Loss: 2.1299e-01\n",
      "Loss: 2.0341e-01\n",
      "Loss: 1.4780e-01\n",
      "Loss: 7.3534e-02\n",
      "Loss: 4.2547e-01\n",
      "Loss: 3.0314e-01\n",
      "Loss: 9.3225e-02\n",
      "Loss: 1.3581e-01\n"
     ]
    },
    {
     "name": "stdout",
     "output_type": "stream",
     "text": [
      "Loss: 3.4959e-01\n",
      "Loss: 9.5697e-02\n",
      "Loss: 1.0058e-01\n",
      "Loss: 1.8759e-01\n",
      "Loss: 2.0346e-01\n",
      "Loss: 3.0770e-01\n",
      "Loss: 3.0660e-01\n",
      "Loss: 2.9744e-01\n",
      "Loss: 1.3553e-01\n",
      "Loss: 1.5849e-01\n",
      "Loss: 2.0634e-01\n",
      "Loss: 1.7053e-01\n"
     ]
    },
    {
     "name": "stdout",
     "output_type": "stream",
     "text": [
      "Loss: 2.2070e-01\n",
      "Loss: 2.2497e-02\n",
      "Loss: 1.2690e-01\n",
      "Loss: 1.6992e-01\n",
      "Loss: -2.5855e-02\n",
      "Loss: 1.5372e-02\n",
      "Loss: 9.0726e-02\n",
      "Loss: 1.9662e-01\n",
      "Loss: 8.4373e-03\n",
      "Loss: 1.5916e-01\n",
      "Loss: 1.5177e-01\n",
      "Loss: -6.0047e-02\n"
     ]
    },
    {
     "name": "stdout",
     "output_type": "stream",
     "text": [
      "Loss: 1.3129e-01\n",
      "Loss: 1.3296e-02\n",
      "Loss: -8.6025e-03\n",
      "Loss: 4.9919e-03\n",
      "Loss: 1.0015e-01\n",
      "Loss: 7.3648e-03\n",
      "Loss: 4.6038e-01\n",
      "Loss: 7.1679e-02\n",
      "Loss: 2.2657e-01\n",
      "Loss: 2.7801e-01\n",
      "Loss: 8.7836e-02\n",
      "Loss: 1.2645e-01\n"
     ]
    },
    {
     "name": "stdout",
     "output_type": "stream",
     "text": [
      "Loss: -6.3750e-02\n",
      "Loss: 1.4688e-02\n",
      "Loss: 5.6761e-02\n",
      "Loss: 1.5533e-01\n",
      "Loss: 1.1900e-01\n",
      "Loss: 5.9498e-02\n",
      "Loss: 1.8109e-01\n",
      "Loss: 1.1941e-01\n",
      "Loss: 2.1550e-01\n",
      "Loss: 2.2784e-01\n",
      "Loss: -9.6944e-02\n",
      "Loss: 5.8231e-02\n"
     ]
    },
    {
     "name": "stdout",
     "output_type": "stream",
     "text": [
      "Loss: 1.9892e-01\n",
      "Loss: 1.1675e-01\n",
      "Loss: -1.4250e-01\n",
      "Loss: 7.1721e-03\n",
      "Loss: 3.4889e-03\n",
      "Loss: -2.4528e-03\n",
      "Loss: 7.6746e-03\n",
      "Loss: -2.3223e-02\n",
      "Loss: 2.5308e-02\n",
      "Loss: -1.1808e-01\n",
      "Loss: 1.8623e-01\n",
      "Loss: 5.0812e-02\n"
     ]
    },
    {
     "name": "stdout",
     "output_type": "stream",
     "text": [
      "Loss: 1.4921e-03\n",
      "Loss: -5.8708e-02\n",
      "Loss: 2.6734e-02\n",
      "Loss: 4.5657e-02\n",
      "Loss: 2.6623e-02\n",
      "Loss: 3.0850e-02\n",
      "Loss: 3.6592e-02\n",
      "Loss: 3.5689e-02\n",
      "Loss: 1.5681e-01\n",
      "Loss: -1.0436e-01\n",
      "Loss: 1.8901e-04\n",
      "Loss: -3.5121e-02\n"
     ]
    },
    {
     "name": "stdout",
     "output_type": "stream",
     "text": [
      "Loss: -1.2508e-01\n",
      "Loss: 2.2803e-02\n",
      "Loss: -2.3704e-02\n",
      "Loss: -6.7654e-02\n",
      "Loss: -2.0959e-02\n",
      "Loss: -1.1269e-02\n",
      "Loss: -7.6881e-02\n",
      "Loss: -6.7324e-02\n",
      "Loss: 2.6535e-02\n",
      "Loss: 2.4138e-01\n",
      "Loss: -1.3843e-01\n",
      "Loss: 1.8384e-01\n"
     ]
    },
    {
     "name": "stdout",
     "output_type": "stream",
     "text": [
      "Loss: 1.6002e-01\n",
      "Loss: -2.5074e-02\n",
      "Loss: 9.4131e-02\n",
      "Loss: 3.0117e-01\n",
      "Loss: -2.1679e-02\n",
      "Loss: 1.2245e-01\n",
      "Loss: 7.7930e-02\n",
      "Loss: 3.5419e-01\n",
      "Loss: 3.1674e-02\n",
      "Loss: 1.3091e-02\n",
      "Loss: 1.8882e-02\n",
      "Loss: -1.0454e-01\n"
     ]
    },
    {
     "name": "stdout",
     "output_type": "stream",
     "text": [
      "Loss: 8.8296e-02\n",
      "Loss: 1.6597e-01\n",
      "Loss: 6.3708e-02\n",
      "Loss: 1.1466e-01\n",
      "Loss: 1.4788e-01\n",
      "Loss: 2.6205e-02\n",
      "Loss: -3.8946e-02\n",
      "Loss: 1.0980e-01\n",
      "Loss: 2.1626e-01\n",
      "Loss: 1.1088e-01\n",
      "Loss: -5.0006e-02\n",
      "Loss: 1.8099e-01\n"
     ]
    },
    {
     "name": "stdout",
     "output_type": "stream",
     "text": [
      "Loss: 1.0742e-01\n",
      "Loss: 4.1340e-03\n",
      "Loss: 5.0333e-03\n",
      "Loss: 4.4797e-02\n",
      "Loss: 4.4212e-02\n",
      "Loss: -4.2156e-02\n",
      "Loss: -1.2415e-01\n",
      "Loss: -9.8548e-02\n",
      "Loss: 6.4752e-02\n",
      "Loss: -3.8705e-02\n",
      "Loss: 3.2690e-02\n",
      "Loss: 8.4937e-02\n"
     ]
    },
    {
     "name": "stdout",
     "output_type": "stream",
     "text": [
      "Loss: -1.0165e-01\n",
      "Loss: 1.0375e-01\n",
      "Loss: -1.4962e-01\n",
      "Loss: 5.8193e-03\n",
      "Loss: -4.4431e-02\n",
      "Loss: -1.2273e-01\n",
      "Loss: 8.4237e-01\n",
      "Loss: 5.7884e-01\n",
      "Loss: 6.0018e-02\n",
      "Loss: -1.2401e-02\n",
      "Loss: 3.3666e-02\n",
      "Loss: -2.9946e-04\n"
     ]
    }
   ],
   "source": [
    "model.train()\n",
    "optimizer = torch.optim.Adam(model.parameters(), lr=7e-3)\n",
    "num_epochs = 200\n",
    "for epoch in range(num_epochs):\n",
    "    for i, data in enumerate(dataloader):\n",
    "        \n",
    "        x_batch, y_batch = data\n",
    "\n",
    "        ref, logdet = model.forward(x_batch, y_batch)\n",
    "\n",
    "        # Zero your gradients for every batch!\n",
    "        optimizer.zero_grad()\n",
    "\n",
    "        # Evaluate the map and its log determinant for this batch\n",
    "        ref, logdet = model(x_batch, y_batch)\n",
    "\n",
    "        # Compute the negative log likelihood as a loss function\n",
    "        loss = -torch.mean(-ref*ref + logdet)  # <- proportional to negative log likelihood with standard normal reference distribution\n",
    "        loss.backward()\n",
    "\n",
    "        # Adjust learning weights\n",
    "        optimizer.step()\n",
    "\n",
    "        if (i % 200) == 0:\n",
    "            print(f'Loss: {loss.item():0.4e}')"
   ]
  },
  {
   "cell_type": "markdown",
   "id": "c3bb1db7",
   "metadata": {},
   "source": [
    "Now that we've finished training, we can go ahead with plotting"
   ]
  },
  {
   "cell_type": "code",
   "execution_count": 9,
   "id": "a4eed2b0",
   "metadata": {
    "execution": {
     "iopub.execute_input": "2024-03-21T17:44:35.204093Z",
     "iopub.status.busy": "2024-03-21T17:44:35.203906Z",
     "iopub.status.idle": "2024-03-21T17:44:35.209730Z",
     "shell.execute_reply": "2024-03-21T17:44:35.209340Z"
    }
   },
   "outputs": [
    {
     "data": {
      "text/plain": [
       "MapModel(\n",
       "  (linear1): Linear(in_features=1, out_features=300, bias=True)\n",
       "  (activation): LeakyReLU(negative_slope=0.01)\n",
       "  (linear2): Linear(in_features=300, out_features=2, bias=True)\n",
       "  (tmap): TorchConditionalMapBase()\n",
       ")"
      ]
     },
     "execution_count": 9,
     "metadata": {},
     "output_type": "execute_result"
    }
   ],
   "source": [
    "# ## Plot the results\n",
    "model.eval()"
   ]
  },
  {
   "cell_type": "markdown",
   "id": "3cb197ff",
   "metadata": {},
   "source": [
    "We plot the true function along with the training data accordingly."
   ]
  },
  {
   "cell_type": "code",
   "execution_count": 10,
   "id": "6782d5b7",
   "metadata": {
    "execution": {
     "iopub.execute_input": "2024-03-21T17:44:35.211641Z",
     "iopub.status.busy": "2024-03-21T17:44:35.211469Z",
     "iopub.status.idle": "2024-03-21T17:44:35.412200Z",
     "shell.execute_reply": "2024-03-21T17:44:35.411669Z"
    }
   },
   "outputs": [
    {
     "data": {
      "text/plain": [
       "<matplotlib.legend.Legend at 0x7fa8a9865550>"
      ]
     },
     "execution_count": 10,
     "metadata": {},
     "output_type": "execute_result"
    },
    {
     "data": {
      "image/png": "[encoded data removed]",
      "text/plain": [
       "<Figure size 640x480 with 1 Axes>"
      ]
     },
     "metadata": {},
     "output_type": "display_data"
    }
   ],
   "source": [
    "plt.plot(x_train,y_train,'.', label='Training Data',alpha=0.6, zorder=2)\n",
    "plt.plot(x_train,y_true,'-k',label='True $f(x)$',linewidth=3, zorder=2)\n",
    "plt.legend()"
   ]
  },
  {
   "cell_type": "code",
   "execution_count": 11,
   "id": "7f966de3",
   "metadata": {
    "execution": {
     "iopub.execute_input": "2024-03-21T17:44:35.414304Z",
     "iopub.status.busy": "2024-03-21T17:44:35.414116Z",
     "iopub.status.idle": "2024-03-21T17:44:35.416815Z",
     "shell.execute_reply": "2024-03-21T17:44:35.416487Z"
    }
   },
   "outputs": [],
   "source": [
    "num_plot = 200 \n",
    "x_plot = torch.linspace(-2.0*torch.pi, 2.0*torch.pi, num_plot, dtype=torch.double).reshape(-1,1)"
   ]
  },
  {
   "cell_type": "markdown",
   "id": "1849c982",
   "metadata": {},
   "source": [
    "Since the map is monotone and real-valued, we can find the median and the quantiles directly"
   ]
  },
  {
   "cell_type": "code",
   "execution_count": 12,
   "id": "11988ea6",
   "metadata": {
    "execution": {
     "iopub.execute_input": "2024-03-21T17:44:35.418677Z",
     "iopub.status.busy": "2024-03-21T17:44:35.418487Z",
     "iopub.status.idle": "2024-03-21T17:44:35.422656Z",
     "shell.execute_reply": "2024-03-21T17:44:35.422254Z"
    }
   },
   "outputs": [],
   "source": [
    "# Compute the median.\n",
    "r = torch.zeros((num_plot,1), dtype=torch.double)\n",
    "median = model.inverse(x_plot,r)"
   ]
  },
  {
   "cell_type": "code",
   "execution_count": 13,
   "id": "317eacb7",
   "metadata": {
    "execution": {
     "iopub.execute_input": "2024-03-21T17:44:35.424514Z",
     "iopub.status.busy": "2024-03-21T17:44:35.424349Z",
     "iopub.status.idle": "2024-03-21T17:44:35.433275Z",
     "shell.execute_reply": "2024-03-21T17:44:35.432893Z"
    }
   },
   "outputs": [],
   "source": [
    "# Compute the 5% quantile \n",
    "r = -2.0*torch.ones((num_plot,1), dtype=torch.double)\n",
    "q05 = model.inverse(x_plot,r)"
   ]
  },
  {
   "cell_type": "code",
   "execution_count": 14,
   "id": "37d682c4",
   "metadata": {
    "execution": {
     "iopub.execute_input": "2024-03-21T17:44:35.435271Z",
     "iopub.status.busy": "2024-03-21T17:44:35.435110Z",
     "iopub.status.idle": "2024-03-21T17:44:35.443512Z",
     "shell.execute_reply": "2024-03-21T17:44:35.443045Z"
    },
    "lines_to_next_cell": 2
   },
   "outputs": [],
   "source": [
    "# Compute the 95% quantile \n",
    "r = 2.0*torch.ones((num_plot,1), dtype=torch.double)\n",
    "q95 = model.inverse(x_plot,r)"
   ]
  },
  {
   "cell_type": "code",
   "execution_count": 15,
   "id": "11bd7e8f",
   "metadata": {
    "execution": {
     "iopub.execute_input": "2024-03-21T17:44:35.445369Z",
     "iopub.status.busy": "2024-03-21T17:44:35.445208Z",
     "iopub.status.idle": "2024-03-21T17:44:35.538319Z",
     "shell.execute_reply": "2024-03-21T17:44:35.537874Z"
    }
   },
   "outputs": [
    {
     "data": {
      "text/plain": [
       "<matplotlib.collections.PolyCollection at 0x7fa8b3459ca0>"
      ]
     },
     "execution_count": 15,
     "metadata": {},
     "output_type": "execute_result"
    },
    {
     "data": {
      "image/png": "[encoded data removed]",
      "text/plain": [
       "<Figure size 640x480 with 1 Axes>"
      ]
     },
     "metadata": {},
     "output_type": "display_data"
    }
   ],
   "source": [
    "plt.fill_between(x_plot.ravel(),q05.ravel(),q95.ravel(), color='b', alpha=0.1, label='%5-95% CI', zorder=1)"
   ]
  },
  {
   "cell_type": "markdown",
   "id": "70387d11",
   "metadata": {},
   "source": [
    "Finally, let's plot the median as well as some realizations of the noise"
   ]
  },
  {
   "cell_type": "code",
   "execution_count": 16,
   "id": "c8ef55d3",
   "metadata": {
    "execution": {
     "iopub.execute_input": "2024-03-21T17:44:35.540369Z",
     "iopub.status.busy": "2024-03-21T17:44:35.540193Z",
     "iopub.status.idle": "2024-03-21T17:44:35.572521Z",
     "shell.execute_reply": "2024-03-21T17:44:35.572111Z"
    }
   },
   "outputs": [],
   "source": [
    "num_samples_per_point = 10\n",
    "r = torch.randn((num_plot*num_samples_per_point,1), dtype=torch.double)\n",
    "xplot_rep = x_plot.repeat(num_samples_per_point, 1)\n",
    "samples = model.inverse(xplot_rep,r)"
   ]
  },
  {
   "cell_type": "code",
   "execution_count": 17,
   "id": "11539e5a",
   "metadata": {
    "execution": {
     "iopub.execute_input": "2024-03-21T17:44:35.574472Z",
     "iopub.status.busy": "2024-03-21T17:44:35.574299Z",
     "iopub.status.idle": "2024-03-21T17:44:35.705338Z",
     "shell.execute_reply": "2024-03-21T17:44:35.704839Z"
    }
   },
   "outputs": [
    {
     "data": {
      "image/png": "[encoded data removed]",
      "text/plain": [
       "<Figure size 640x480 with 1 Axes>"
      ]
     },
     "metadata": {},
     "output_type": "display_data"
    }
   ],
   "source": [
    "plt.plot(x_plot, median, 'b', label='Median', linewidth=2, zorder=3)\n",
    "plt.scatter(xplot_rep, samples, s=1, color='b', alpha=0.1, label='Samples', zorder=1)\n",
    "plt.legend()\n",
    "plt.show()"
   ]
  }
 ],
 "metadata": {
  "jupytext": {
   "cell_metadata_filter": "-all",
   "formats": "ipynb,py",
   "main_language": "python"
  },
  "language_info": {
   "codemirror_mode": {
    "name": "ipython",
    "version": 3
   },
   "file_extension": ".py",
   "mimetype": "text/x-python",
   "name": "python",
   "nbconvert_exporter": "python",
   "pygments_lexer": "ipython3",
   "version": "3.12.2"
  }
 },
 "nbformat": 4,
 "nbformat_minor": 5
}
