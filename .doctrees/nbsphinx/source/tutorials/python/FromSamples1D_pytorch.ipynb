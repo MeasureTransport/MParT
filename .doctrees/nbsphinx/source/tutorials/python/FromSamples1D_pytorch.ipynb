{
 "cells": [
  {
   "cell_type": "markdown",
   "id": "b4ce84e8",
   "metadata": {},
   "source": [
    "# Pytorch Integration\n",
    "This example demonstrates how to train and use an MParT-based transport map \n",
    "in a larger pytorch model.  To illustrate, a regression problem with heteroscedastic\n",
    "noise will be considered.  \n",
    "\n",
    "The goal of this problem is to characterize a conditional distribution $p(y|x)$,\n",
    "where $x,y\\in\\mathbb{R}$.  To characterize this distribution, we will construct \n",
    "a conditional transport map of the form $T(y; f(x))$, where $f:\\mathbb{R}\\rightarrow\\mathbb{R}^M$\n",
    "is a feature extractor that returns an $M$ dimensional vector.  This feature extractor \n",
    "will be defined with a neural network (pytorch) while the map itself $T:\\mathbb{R}^{M+1}\\rightarrow\\mathbb{R}$\n",
    "is defined with a polynomial-based monotone map (MParT)."
   ]
  },
  {
   "cell_type": "code",
   "execution_count": 1,
   "id": "902aea49",
   "metadata": {
    "execution": {
     "iopub.execute_input": "2024-03-21T12:49:52.488126Z",
     "iopub.status.busy": "2024-03-21T12:49:52.487964Z",
     "iopub.status.idle": "2024-03-21T12:49:53.811236Z",
     "shell.execute_reply": "2024-03-21T12:49:53.810779Z"
    },
    "lines_to_next_cell": 2
   },
   "outputs": [],
   "source": [
    "import matplotlib.pyplot as plt\n",
    "import torch\n",
    "import mpart as mt"
   ]
  },
  {
   "cell_type": "markdown",
   "id": "30a3ace2",
   "metadata": {},
   "source": [
    "## Generate Training Data "
   ]
  },
  {
   "cell_type": "code",
   "execution_count": 2,
   "id": "73bb7438",
   "metadata": {
    "execution": {
     "iopub.execute_input": "2024-03-21T12:49:53.813588Z",
     "iopub.status.busy": "2024-03-21T12:49:53.813349Z",
     "iopub.status.idle": "2024-03-21T12:49:53.818449Z",
     "shell.execute_reply": "2024-03-21T12:49:53.818046Z"
    }
   },
   "outputs": [],
   "source": [
    "num_pts = 1000\n",
    "x_train = torch.linspace(-2.0*torch.pi, 2.0*torch.pi, num_pts, dtype=torch.double)\n",
    "y_true = torch.sin(x_train)\n",
    "y_train = y_true + 0.5*torch.abs(1.0+torch.cos(x_train))*torch.randn(num_pts)"
   ]
  },
  {
   "cell_type": "code",
   "execution_count": 3,
   "id": "214b8500",
   "metadata": {
    "execution": {
     "iopub.execute_input": "2024-03-21T12:49:53.820425Z",
     "iopub.status.busy": "2024-03-21T12:49:53.820129Z",
     "iopub.status.idle": "2024-03-21T12:49:53.823010Z",
     "shell.execute_reply": "2024-03-21T12:49:53.822554Z"
    },
    "lines_to_next_cell": 2
   },
   "outputs": [],
   "source": [
    "dataset = torch.utils.data.TensorDataset(x_train.reshape(-1,1), y_train.reshape(-1,1)) \n",
    "dataloader = torch.utils.data.DataLoader(dataset, batch_size=128, shuffle=True)\n",
    "num_epochs = 200"
   ]
  },
  {
   "cell_type": "markdown",
   "id": "aefb22e3",
   "metadata": {},
   "source": [
    "##  Define the hybrid model"
   ]
  },
  {
   "cell_type": "code",
   "execution_count": 4,
   "id": "9165f787",
   "metadata": {
    "execution": {
     "iopub.execute_input": "2024-03-21T12:49:53.825119Z",
     "iopub.status.busy": "2024-03-21T12:49:53.824731Z",
     "iopub.status.idle": "2024-03-21T12:49:53.827909Z",
     "shell.execute_reply": "2024-03-21T12:49:53.827454Z"
    }
   },
   "outputs": [],
   "source": [
    "maxDegree = 3 # <- The maximum total order of the map $T$\n",
    "tgt_dim = 1 # <- The dimension of the target random variable $y$\n",
    "cond_dim = 2 # <- The number of features $M$ returned by the neural network"
   ]
  },
  {
   "cell_type": "markdown",
   "id": "8f070938",
   "metadata": {},
   "source": [
    "#### MParT map Construction\n",
    "Here we construct the 3->1 dimensional map in the typical fashion of MParT but \n",
    "using options that help make the map robust to inputs."
   ]
  },
  {
   "cell_type": "code",
   "execution_count": 5,
   "id": "ebab7284",
   "metadata": {
    "execution": {
     "iopub.execute_input": "2024-03-21T12:49:53.829808Z",
     "iopub.status.busy": "2024-03-21T12:49:53.829641Z",
     "iopub.status.idle": "2024-03-21T12:49:53.832459Z",
     "shell.execute_reply": "2024-03-21T12:49:53.831972Z"
    },
    "lines_to_next_cell": 1
   },
   "outputs": [],
   "source": [
    "opts = mt.MapOptions()\n",
    "opts.basisLB = -2.5\n",
    "opts.basisUB = 2.5\n",
    "opts.nugget = 0.001\n",
    "tmap = mt.CreateTriangular(cond_dim+tgt_dim, tgt_dim, maxDegree, opts) # Simple third order map"
   ]
  },
  {
   "cell_type": "markdown",
   "id": "6702d25c",
   "metadata": {},
   "source": [
    "#### Hybrid Construction\n",
    "We can now create a torch model for the composition $T(y; f(x))$.  The `.torch()` function\n",
    "from the MParT map returns a torch.nn.Module that can be used as a native pytorch object.\n",
    "The autograd functionality in pytorch can also be used with this function."
   ]
  },
  {
   "cell_type": "code",
   "execution_count": 6,
   "id": "48561177",
   "metadata": {
    "execution": {
     "iopub.execute_input": "2024-03-21T12:49:53.834568Z",
     "iopub.status.busy": "2024-03-21T12:49:53.834179Z",
     "iopub.status.idle": "2024-03-21T12:49:53.838741Z",
     "shell.execute_reply": "2024-03-21T12:49:53.838252Z"
    }
   },
   "outputs": [],
   "source": [
    "class MapModel(torch.nn.Module):\n",
    "    def __init__(self, tmap):\n",
    "        super().__init__()\n",
    "        self.linear1 = torch.nn.Linear(1, 300, dtype=torch.double)\n",
    "        self.activation = torch.nn.LeakyReLU()\n",
    "        self.linear2 = torch.nn.Linear(300, cond_dim, dtype=torch.double)\n",
    "        self.tmap = tmap.torch(return_logdet=True)\n",
    "\n",
    "    def forward(self, x, y):\n",
    "        x = self.linear1(x)\n",
    "        x = self.activation(x)\n",
    "        x = self.linear2(x)\n",
    "\n",
    "        x = torch.hstack([x,y])\n",
    "        r, logdet = self.tmap.forward(x)\n",
    "\n",
    "        return r, logdet\n",
    "\n",
    "    def inverse(self, x, r):\n",
    "        \"\"\" This is an additional function for computing the inverse of $T$ to compute $y$ from $r$.\n",
    "        \"\"\"\n",
    "        x = self.linear1(x)\n",
    "        x = self.activation(x)\n",
    "        x = self.linear2(x)\n",
    "        x = torch.hstack([x,r])\n",
    "\n",
    "        y = self.tmap.inverse(x,r)\n",
    "\n",
    "        return y"
   ]
  },
  {
   "cell_type": "code",
   "execution_count": 7,
   "id": "55d2aa47",
   "metadata": {
    "execution": {
     "iopub.execute_input": "2024-03-21T12:49:53.840849Z",
     "iopub.status.busy": "2024-03-21T12:49:53.840454Z",
     "iopub.status.idle": "2024-03-21T12:49:53.843601Z",
     "shell.execute_reply": "2024-03-21T12:49:53.843132Z"
    }
   },
   "outputs": [],
   "source": [
    "model = MapModel(tmap)"
   ]
  },
  {
   "cell_type": "markdown",
   "id": "5f4ea716",
   "metadata": {
    "lines_to_next_cell": 2
   },
   "source": [
    "## Train the model\n",
    "Here we use the negative log likelihood as a training function.\n",
    "\n",
    "Given a value of $x$, the hybrid function $r=T(y; f(x))$ defines a monotone transformation\n",
    "that can be used to transform probability distributions.  By assuming the distribution \n",
    "of $r$ is $\\mu_r$, we can define a map-induced distribution over $y$ given by the pull back\n",
    "of the reference measure $\\mu_r$ through the map: $\\mu_y=T^{\\sharp}\\mu_r$.  The log density of this \n",
    "distribution is proportinoal to $\\log p( T(y; f(x)) ) + \\log \\text{det}\\nabla_y T$, where $\n",
    "$p(r)$ is the density of the reference distribution.  To compute the parameters of the map and \n",
    "the weights of the neural network, we will maximize the likelihood of the training data according\n",
    "to this map-induced density and the assumption that $p(r)=N(0,1)$ is standard normal."
   ]
  },
  {
   "cell_type": "code",
   "execution_count": 8,
   "id": "2612c095",
   "metadata": {
    "execution": {
     "iopub.execute_input": "2024-03-21T12:49:53.845474Z",
     "iopub.status.busy": "2024-03-21T12:49:53.845304Z",
     "iopub.status.idle": "2024-03-21T12:49:57.365466Z",
     "shell.execute_reply": "2024-03-21T12:49:57.364989Z"
    }
   },
   "outputs": [
    {
     "name": "stdout",
     "output_type": "stream",
     "text": [
      "Loss: 7.6801e-01\n",
      "Loss: 7.7617e-01\n",
      "Loss: 7.0297e-01\n",
      "Loss: 6.7936e-01\n",
      "Loss: 7.2891e-01\n",
      "Loss: 8.9034e-01\n",
      "Loss: 6.2427e-01\n",
      "Loss: 5.5826e-01\n",
      "Loss: 5.8599e-01\n",
      "Loss: 5.8602e-01\n",
      "Loss: 4.4136e-01\n",
      "Loss: 5.1315e-01\n",
      "Loss: 4.1918e-01\n"
     ]
    },
    {
     "name": "stdout",
     "output_type": "stream",
     "text": [
      "Loss: 4.6694e-01\n",
      "Loss: 2.0278e-01\n",
      "Loss: 1.9866e-01\n",
      "Loss: 2.7430e-01\n",
      "Loss: 1.5499e-01\n",
      "Loss: 2.0071e-01\n",
      "Loss: 4.0289e-01\n",
      "Loss: 2.9684e-01\n",
      "Loss: 2.6376e-01\n",
      "Loss: 6.1140e-02\n",
      "Loss: 2.8270e-01\n",
      "Loss: 1.5353e-01\n"
     ]
    },
    {
     "name": "stdout",
     "output_type": "stream",
     "text": [
      "Loss: 1.6224e-01\n",
      "Loss: 7.5834e-02\n",
      "Loss: -8.5355e-02\n",
      "Loss: 1.3005e-02\n",
      "Loss: 1.2101e-01\n",
      "Loss: -1.6678e-02\n",
      "Loss: -1.1464e-01\n",
      "Loss: 1.3441e-01\n",
      "Loss: 2.6340e-01\n",
      "Loss: 2.2625e-01\n",
      "Loss: 9.0673e-02\n",
      "Loss: -2.9305e-02\n",
      "Loss: -1.4802e-01\n"
     ]
    },
    {
     "name": "stdout",
     "output_type": "stream",
     "text": [
      "Loss: 8.4184e-02\n",
      "Loss: 2.4859e-01\n",
      "Loss: 1.4857e-01\n",
      "Loss: -1.9226e-02\n",
      "Loss: -1.0103e-02\n",
      "Loss: 2.2712e-02\n",
      "Loss: 9.3784e-03\n",
      "Loss: -3.8232e-02\n",
      "Loss: 4.6317e-02\n",
      "Loss: 2.7935e-02\n",
      "Loss: 8.3293e-03\n",
      "Loss: -6.0486e-03\n",
      "Loss: 8.5765e-02\n"
     ]
    },
    {
     "name": "stdout",
     "output_type": "stream",
     "text": [
      "Loss: 2.0941e-01\n",
      "Loss: -4.4750e-03\n",
      "Loss: 6.6646e-02\n",
      "Loss: 2.7198e-02\n",
      "Loss: -1.2189e-01\n",
      "Loss: 1.8143e-01\n",
      "Loss: 7.1587e-02\n",
      "Loss: -5.6588e-02\n",
      "Loss: -1.6923e-01\n",
      "Loss: -3.1521e-02\n",
      "Loss: -1.5366e-02\n",
      "Loss: -4.1281e-02\n",
      "Loss: 2.7798e-03\n"
     ]
    },
    {
     "name": "stdout",
     "output_type": "stream",
     "text": [
      "Loss: 2.0583e-01\n",
      "Loss: 1.8847e-02\n",
      "Loss: -9.9000e-03\n",
      "Loss: -9.1305e-02\n",
      "Loss: -7.6757e-02\n",
      "Loss: -2.2691e-01\n",
      "Loss: -2.4483e-01\n",
      "Loss: -1.8737e-01\n",
      "Loss: -3.9288e-02\n",
      "Loss: 6.6073e-04\n",
      "Loss: -5.4151e-02\n",
      "Loss: 7.6875e-03\n",
      "Loss: 7.5114e-02\n"
     ]
    },
    {
     "name": "stdout",
     "output_type": "stream",
     "text": [
      "Loss: -1.3502e-01\n",
      "Loss: -2.1463e-01\n",
      "Loss: -1.1795e-01\n",
      "Loss: -7.6602e-02\n",
      "Loss: -3.1421e-02\n",
      "Loss: 3.7233e-02\n",
      "Loss: -1.5410e-01\n",
      "Loss: -8.4801e-03\n",
      "Loss: 6.3911e-03\n",
      "Loss: -5.4655e-02\n",
      "Loss: -2.1230e-01\n",
      "Loss: -7.2591e-02\n",
      "Loss: -3.0607e-02\n"
     ]
    },
    {
     "name": "stdout",
     "output_type": "stream",
     "text": [
      "Loss: -2.4425e-02\n",
      "Loss: -1.8471e-01\n",
      "Loss: -5.4069e-02\n",
      "Loss: -4.9242e-02\n",
      "Loss: -1.9346e-01\n",
      "Loss: -1.3517e-01\n",
      "Loss: 8.2718e-02\n",
      "Loss: -1.4009e-01\n",
      "Loss: -6.6510e-02\n",
      "Loss: -1.7482e-01\n",
      "Loss: -1.9767e-01\n",
      "Loss: -7.8380e-02\n",
      "Loss: -2.0076e-01\n"
     ]
    },
    {
     "name": "stdout",
     "output_type": "stream",
     "text": [
      "Loss: -6.8765e-02\n",
      "Loss: -5.5146e-02\n",
      "Loss: 5.3907e-02\n",
      "Loss: -1.5444e-01\n",
      "Loss: -2.0441e-01\n",
      "Loss: -2.9381e-01\n",
      "Loss: -2.5013e-01\n",
      "Loss: -1.1882e-01\n",
      "Loss: -2.5918e-02\n",
      "Loss: -3.3545e-01\n",
      "Loss: -1.7899e-01\n",
      "Loss: 2.0050e-02\n",
      "Loss: 2.8717e-01\n"
     ]
    },
    {
     "name": "stdout",
     "output_type": "stream",
     "text": [
      "Loss: -2.0615e-01\n",
      "Loss: -3.0767e-02\n",
      "Loss: -2.6080e-01\n",
      "Loss: 1.9694e-02\n",
      "Loss: -3.6144e-02\n",
      "Loss: -2.0073e-02\n",
      "Loss: -2.2839e-01\n",
      "Loss: -3.4707e-02\n",
      "Loss: -1.9003e-01\n",
      "Loss: -2.6475e-01\n",
      "Loss: -1.0342e-01\n",
      "Loss: -9.0959e-02\n",
      "Loss: -2.2555e-01\n"
     ]
    },
    {
     "name": "stdout",
     "output_type": "stream",
     "text": [
      "Loss: -1.9723e-01\n",
      "Loss: 1.7205e-01\n",
      "Loss: -1.9143e-01\n",
      "Loss: 7.9542e-03\n",
      "Loss: -1.4359e-01\n",
      "Loss: -1.6865e-01\n",
      "Loss: -2.5266e-01\n",
      "Loss: -2.8167e-01\n",
      "Loss: -2.6886e-02\n",
      "Loss: -1.4955e-01\n",
      "Loss: -8.0056e-02\n",
      "Loss: 8.2114e-02\n",
      "Loss: -1.1266e-01\n"
     ]
    },
    {
     "name": "stdout",
     "output_type": "stream",
     "text": [
      "Loss: -1.4708e-01\n",
      "Loss: -2.0735e-01\n",
      "Loss: 1.8030e-02\n",
      "Loss: -1.7236e-01\n",
      "Loss: -5.9715e-02\n",
      "Loss: -1.4299e-01\n",
      "Loss: -3.4281e-02\n",
      "Loss: 3.7946e-02\n",
      "Loss: -1.4970e-01\n",
      "Loss: 6.9420e-03\n",
      "Loss: 3.5806e-02\n",
      "Loss: -2.1828e-01\n",
      "Loss: 1.9348e-01\n"
     ]
    },
    {
     "name": "stdout",
     "output_type": "stream",
     "text": [
      "Loss: 1.4925e-01\n",
      "Loss: 1.6661e-02\n",
      "Loss: -1.5634e-01\n",
      "Loss: -3.3538e-02\n",
      "Loss: -2.7053e-01\n",
      "Loss: -1.5023e-01\n",
      "Loss: -1.6094e-01\n",
      "Loss: 9.2700e-03\n",
      "Loss: -1.8157e-01\n",
      "Loss: -1.0306e-01\n",
      "Loss: -3.2904e-02\n",
      "Loss: -1.0671e-01\n",
      "Loss: -1.7445e-01\n"
     ]
    },
    {
     "name": "stdout",
     "output_type": "stream",
     "text": [
      "Loss: -1.5567e-01\n",
      "Loss: -4.5723e-02\n",
      "Loss: -1.7352e-01\n",
      "Loss: -6.5901e-02\n",
      "Loss: -1.8545e-01\n",
      "Loss: -9.6030e-04\n",
      "Loss: -1.6410e-01\n",
      "Loss: -2.9522e-01\n",
      "Loss: -2.0978e-01\n",
      "Loss: -1.3243e-01\n",
      "Loss: -1.9498e-01\n",
      "Loss: -8.4890e-02\n",
      "Loss: -3.2353e-01\n"
     ]
    },
    {
     "name": "stdout",
     "output_type": "stream",
     "text": [
      "Loss: -2.4771e-02\n",
      "Loss: -9.2343e-02\n",
      "Loss: -1.9362e-01\n",
      "Loss: 6.8812e-02\n",
      "Loss: -1.3094e-01\n",
      "Loss: -1.2219e-01\n",
      "Loss: -1.4630e-01\n",
      "Loss: -4.3322e-02\n",
      "Loss: 5.8943e-02\n",
      "Loss: -6.2556e-02\n",
      "Loss: 1.9589e-01\n",
      "Loss: -7.3010e-02\n",
      "Loss: -1.3039e-01\n"
     ]
    },
    {
     "name": "stdout",
     "output_type": "stream",
     "text": [
      "Loss: -1.1592e-01\n",
      "Loss: -2.6513e-01\n",
      "Loss: 8.0510e-02\n",
      "Loss: -4.0881e-02\n",
      "Loss: 1.1081e-01\n",
      "Loss: -8.5199e-02\n"
     ]
    }
   ],
   "source": [
    "model.train()\n",
    "optimizer = torch.optim.Adam(model.parameters(), lr=7e-3)\n",
    "num_epochs = 200\n",
    "for epoch in range(num_epochs):\n",
    "    for i, data in enumerate(dataloader):\n",
    "        \n",
    "        x_batch, y_batch = data\n",
    "\n",
    "        ref, logdet = model.forward(x_batch, y_batch)\n",
    "\n",
    "        # Zero your gradients for every batch!\n",
    "        optimizer.zero_grad()\n",
    "\n",
    "        # Evaluate the map and its log determinant for this batch\n",
    "        ref, logdet = model(x_batch, y_batch)\n",
    "\n",
    "        # Compute the negative log likelihood as a loss function\n",
    "        loss = -torch.mean(-ref*ref + logdet)  # <- proportional to negative log likelihood with standard normal reference distribution\n",
    "        loss.backward()\n",
    "\n",
    "        # Adjust learning weights\n",
    "        optimizer.step()\n",
    "\n",
    "        if (i % 200) == 0:\n",
    "            print(f'Loss: {loss.item():0.4e}')"
   ]
  },
  {
   "cell_type": "markdown",
   "id": "916166c6",
   "metadata": {},
   "source": [
    "Now that we've finished training, we can go ahead with plotting"
   ]
  },
  {
   "cell_type": "code",
   "execution_count": 9,
   "id": "6e212a23",
   "metadata": {
    "execution": {
     "iopub.execute_input": "2024-03-21T12:49:57.367681Z",
     "iopub.status.busy": "2024-03-21T12:49:57.367356Z",
     "iopub.status.idle": "2024-03-21T12:49:57.372939Z",
     "shell.execute_reply": "2024-03-21T12:49:57.372473Z"
    }
   },
   "outputs": [
    {
     "data": {
      "text/plain": [
       "MapModel(\n",
       "  (linear1): Linear(in_features=1, out_features=300, bias=True)\n",
       "  (activation): LeakyReLU(negative_slope=0.01)\n",
       "  (linear2): Linear(in_features=300, out_features=2, bias=True)\n",
       "  (tmap): TorchConditionalMapBase()\n",
       ")"
      ]
     },
     "execution_count": 9,
     "metadata": {},
     "output_type": "execute_result"
    }
   ],
   "source": [
    "# ## Plot the results\n",
    "model.eval()"
   ]
  },
  {
   "cell_type": "markdown",
   "id": "78bac7d9",
   "metadata": {},
   "source": [
    "We plot the true function along with the training data accordingly."
   ]
  },
  {
   "cell_type": "code",
   "execution_count": 10,
   "id": "69a400a7",
   "metadata": {
    "execution": {
     "iopub.execute_input": "2024-03-21T12:49:57.374864Z",
     "iopub.status.busy": "2024-03-21T12:49:57.374696Z",
     "iopub.status.idle": "2024-03-21T12:49:57.571758Z",
     "shell.execute_reply": "2024-03-21T12:49:57.571326Z"
    }
   },
   "outputs": [
    {
     "data": {
      "text/plain": [
       "<matplotlib.legend.Legend at 0x7fbe2883e240>"
      ]
     },
     "execution_count": 10,
     "metadata": {},
     "output_type": "execute_result"
    },
    {
     "data": {
      "image/png": "[encoded data removed]",
      "text/plain": [
       "<Figure size 640x480 with 1 Axes>"
      ]
     },
     "metadata": {},
     "output_type": "display_data"
    }
   ],
   "source": [
    "plt.plot(x_train,y_train,'.', label='Training Data',alpha=0.6, zorder=2)\n",
    "plt.plot(x_train,y_true,'-k',label='True $f(x)$',linewidth=3, zorder=2)\n",
    "plt.legend()"
   ]
  },
  {
   "cell_type": "code",
   "execution_count": 11,
   "id": "6831daf4",
   "metadata": {
    "execution": {
     "iopub.execute_input": "2024-03-21T12:49:57.573653Z",
     "iopub.status.busy": "2024-03-21T12:49:57.573481Z",
     "iopub.status.idle": "2024-03-21T12:49:57.576340Z",
     "shell.execute_reply": "2024-03-21T12:49:57.575888Z"
    }
   },
   "outputs": [],
   "source": [
    "num_plot = 200 \n",
    "x_plot = torch.linspace(-2.0*torch.pi, 2.0*torch.pi, num_plot, dtype=torch.double).reshape(-1,1)"
   ]
  },
  {
   "cell_type": "markdown",
   "id": "2bf7e5d2",
   "metadata": {},
   "source": [
    "Since the map is monotone and real-valued, we can find the median and the quantiles directly"
   ]
  },
  {
   "cell_type": "code",
   "execution_count": 12,
   "id": "6d25dd39",
   "metadata": {
    "execution": {
     "iopub.execute_input": "2024-03-21T12:49:57.578147Z",
     "iopub.status.busy": "2024-03-21T12:49:57.577958Z",
     "iopub.status.idle": "2024-03-21T12:49:57.581722Z",
     "shell.execute_reply": "2024-03-21T12:49:57.581264Z"
    }
   },
   "outputs": [],
   "source": [
    "# Compute the median.\n",
    "r = torch.zeros((num_plot,1), dtype=torch.double)\n",
    "median = model.inverse(x_plot,r)"
   ]
  },
  {
   "cell_type": "code",
   "execution_count": 13,
   "id": "f68757d0",
   "metadata": {
    "execution": {
     "iopub.execute_input": "2024-03-21T12:49:57.583597Z",
     "iopub.status.busy": "2024-03-21T12:49:57.583429Z",
     "iopub.status.idle": "2024-03-21T12:49:57.590777Z",
     "shell.execute_reply": "2024-03-21T12:49:57.590303Z"
    }
   },
   "outputs": [],
   "source": [
    "# Compute the 5% quantile \n",
    "r = -2.0*torch.ones((num_plot,1), dtype=torch.double)\n",
    "q05 = model.inverse(x_plot,r)"
   ]
  },
  {
   "cell_type": "code",
   "execution_count": 14,
   "id": "bafc64b5",
   "metadata": {
    "execution": {
     "iopub.execute_input": "2024-03-21T12:49:57.593349Z",
     "iopub.status.busy": "2024-03-21T12:49:57.593030Z",
     "iopub.status.idle": "2024-03-21T12:49:57.601879Z",
     "shell.execute_reply": "2024-03-21T12:49:57.601414Z"
    },
    "lines_to_next_cell": 2
   },
   "outputs": [],
   "source": [
    "# Compute the 95% quantile \n",
    "r = 2.0*torch.ones((num_plot,1), dtype=torch.double)\n",
    "q95 = model.inverse(x_plot,r)"
   ]
  },
  {
   "cell_type": "code",
   "execution_count": 15,
   "id": "c1d6c2db",
   "metadata": {
    "execution": {
     "iopub.execute_input": "2024-03-21T12:49:57.603750Z",
     "iopub.status.busy": "2024-03-21T12:49:57.603586Z",
     "iopub.status.idle": "2024-03-21T12:49:57.705983Z",
     "shell.execute_reply": "2024-03-21T12:49:57.705527Z"
    }
   },
   "outputs": [
    {
     "data": {
      "text/plain": [
       "<matplotlib.collections.PolyCollection at 0x7fbe2857ce60>"
      ]
     },
     "execution_count": 15,
     "metadata": {},
     "output_type": "execute_result"
    },
    {
     "data": {
      "image/png": "[encoded data removed]",
      "text/plain": [
       "<Figure size 640x480 with 1 Axes>"
      ]
     },
     "metadata": {},
     "output_type": "display_data"
    }
   ],
   "source": [
    "plt.fill_between(x_plot.ravel(),q05.ravel(),q95.ravel(), color='b', alpha=0.1, label='%5-95% CI', zorder=1)"
   ]
  },
  {
   "cell_type": "markdown",
   "id": "b32ff103",
   "metadata": {},
   "source": [
    "Finally, let's plot the median as well as some realizations of the noise"
   ]
  },
  {
   "cell_type": "code",
   "execution_count": 16,
   "id": "c69d6132",
   "metadata": {
    "execution": {
     "iopub.execute_input": "2024-03-21T12:49:57.708007Z",
     "iopub.status.busy": "2024-03-21T12:49:57.707839Z",
     "iopub.status.idle": "2024-03-21T12:49:57.734765Z",
     "shell.execute_reply": "2024-03-21T12:49:57.734304Z"
    }
   },
   "outputs": [],
   "source": [
    "num_samples_per_point = 10\n",
    "r = torch.randn((num_plot*num_samples_per_point,1), dtype=torch.double)\n",
    "xplot_rep = x_plot.repeat(num_samples_per_point, 1)\n",
    "samples = model.inverse(xplot_rep,r)"
   ]
  },
  {
   "cell_type": "code",
   "execution_count": 17,
   "id": "c869a5c7",
   "metadata": {
    "execution": {
     "iopub.execute_input": "2024-03-21T12:49:57.736649Z",
     "iopub.status.busy": "2024-03-21T12:49:57.736482Z",
     "iopub.status.idle": "2024-03-21T12:49:57.858499Z",
     "shell.execute_reply": "2024-03-21T12:49:57.858030Z"
    }
   },
   "outputs": [
    {
     "data": {
      "image/png": "[encoded data removed]",
      "text/plain": [
       "<Figure size 640x480 with 1 Axes>"
      ]
     },
     "metadata": {},
     "output_type": "display_data"
    }
   ],
   "source": [
    "plt.plot(x_plot, median, 'b', label='Median', linewidth=2, zorder=3)\n",
    "plt.scatter(xplot_rep, samples, s=1, color='b', alpha=0.1, label='Samples', zorder=1)\n",
    "plt.legend()\n",
    "plt.show()"
   ]
  }
 ],
 "metadata": {
  "jupytext": {
   "cell_metadata_filter": "-all",
   "formats": "ipynb,py",
   "main_language": "python"
  },
  "language_info": {
   "codemirror_mode": {
    "name": "ipython",
    "version": 3
   },
   "file_extension": ".py",
   "mimetype": "text/x-python",
   "name": "python",
   "nbconvert_exporter": "python",
   "pygments_lexer": "ipython3",
   "version": "3.12.2"
  }
 },
 "nbformat": 4,
 "nbformat_minor": 5
}
