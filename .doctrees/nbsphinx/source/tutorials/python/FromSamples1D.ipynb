{
 "cells": [
  {
   "cell_type": "markdown",
   "id": "2928feb3",
   "metadata": {
    "lines_to_next_cell": 2
   },
   "source": [
    "# Construct map from samples"
   ]
  },
  {
   "cell_type": "code",
   "execution_count": 1,
   "id": "0b01641d",
   "metadata": {
    "execution": {
     "iopub.execute_input": "2024-03-21T17:44:22.276685Z",
     "iopub.status.busy": "2024-03-21T17:44:22.276358Z",
     "iopub.status.idle": "2024-03-21T17:44:22.839951Z",
     "shell.execute_reply": "2024-03-21T17:44:22.839464Z"
    }
   },
   "outputs": [],
   "source": [
    "import numpy as np\n",
    "from scipy.optimize import minimize\n",
    "from scipy.stats import norm\n",
    "import matplotlib.pyplot as plt"
   ]
  },
  {
   "cell_type": "code",
   "execution_count": 2,
   "id": "8945f3b5",
   "metadata": {
    "execution": {
     "iopub.execute_input": "2024-03-21T17:44:22.842325Z",
     "iopub.status.busy": "2024-03-21T17:44:22.841985Z",
     "iopub.status.idle": "2024-03-21T17:44:23.977500Z",
     "shell.execute_reply": "2024-03-21T17:44:23.976981Z"
    },
    "lines_to_next_cell": 1
   },
   "outputs": [],
   "source": [
    "from mpart import *"
   ]
  },
  {
   "cell_type": "code",
   "execution_count": 3,
   "id": "3ee2a720",
   "metadata": {
    "execution": {
     "iopub.execute_input": "2024-03-21T17:44:23.979788Z",
     "iopub.status.busy": "2024-03-21T17:44:23.979543Z",
     "iopub.status.idle": "2024-03-21T17:44:23.982830Z",
     "shell.execute_reply": "2024-03-21T17:44:23.982352Z"
    },
    "lines_to_next_cell": 1
   },
   "outputs": [
    {
     "name": "stderr",
     "output_type": "stream",
     "text": [
      "<>:3: SyntaxWarning: invalid escape sequence '\\i'\n",
      "<>:3: SyntaxWarning: invalid escape sequence '\\i'\n",
      "/tmp/ipykernel_130/1707570009.py:3: SyntaxWarning: invalid escape sequence '\\i'\n",
      "  '''\n"
     ]
    }
   ],
   "source": [
    "# sinh-arcsinh function\n",
    "def sinharcsinh(z,loc,scale,skew,tail):\n",
    "    '''\n",
    "    To make skewed and/or non-Gaussian tailed test distributions\n",
    "    skew \\in R, skew > 0 leads to positive (right tilted) skew, skew < 0 leads to negative (left tilted) skew\n",
    "    tail > 0, tail < 1 leads to light tails, tail > 1 leads to heavy tails.\n",
    "    skew = 0, tail = 1 leads to affine function x = loc + scale*z\n",
    "    See for more info: Jones, M. Chris, and Arthur Pewsey. \"Sinh-arcsinh distributions.\" Biometrika 96.4 (2009): 761-780.\n",
    "    '''\n",
    "    f0 = np.sinh(tail*np.arcsinh(2))\n",
    "    f = (2/f0)*np.sinh(tail*(np.arcsinh(z) + skew))\n",
    "    x = loc + scale*f\n",
    "    return x"
   ]
  },
  {
   "cell_type": "code",
   "execution_count": 4,
   "id": "8264b151",
   "metadata": {
    "execution": {
     "iopub.execute_input": "2024-03-21T17:44:23.984613Z",
     "iopub.status.busy": "2024-03-21T17:44:23.984449Z",
     "iopub.status.idle": "2024-03-21T17:44:23.987088Z",
     "shell.execute_reply": "2024-03-21T17:44:23.986734Z"
    }
   },
   "outputs": [],
   "source": [
    "# Make target samples\n",
    "num_points = 1000\n",
    "z = np.random.randn(num_points)\n",
    "x = sinharcsinh(z, loc=-1, scale=1, skew=.5, tail=1)[None,:]\n",
    "# x = -2 + .5*z  # For Gaussian test case"
   ]
  },
  {
   "cell_type": "code",
   "execution_count": 5,
   "id": "80430454",
   "metadata": {
    "execution": {
     "iopub.execute_input": "2024-03-21T17:44:23.989008Z",
     "iopub.status.busy": "2024-03-21T17:44:23.988611Z",
     "iopub.status.idle": "2024-03-21T17:44:23.992088Z",
     "shell.execute_reply": "2024-03-21T17:44:23.991628Z"
    }
   },
   "outputs": [],
   "source": [
    "# For plotting and computing reference density \n",
    "rv = norm()\n",
    "t = np.linspace(-3,3,100)\n",
    "rho_t = rv.pdf(t)"
   ]
  },
  {
   "cell_type": "code",
   "execution_count": 6,
   "id": "c007c839",
   "metadata": {
    "execution": {
     "iopub.execute_input": "2024-03-21T17:44:23.993921Z",
     "iopub.status.busy": "2024-03-21T17:44:23.993630Z",
     "iopub.status.idle": "2024-03-21T17:44:24.148043Z",
     "shell.execute_reply": "2024-03-21T17:44:24.147551Z"
    }
   },
   "outputs": [
    {
     "data": {
      "image/png": "[encoded data removed]",
      "text/plain": [
       "<Figure size 640x480 with 1 Axes>"
      ]
     },
     "metadata": {},
     "output_type": "display_data"
    }
   ],
   "source": [
    "# Before optimization\n",
    "num_bins = 50\n",
    "plt.figure()\n",
    "plt.hist(x.flatten(), num_bins, facecolor='blue', alpha=0.5, density=True, label='Target samples')\n",
    "plt.plot(t,rho_t,label=\"Reference density\")\n",
    "plt.legend()\n",
    "plt.show()"
   ]
  },
  {
   "cell_type": "code",
   "execution_count": 7,
   "id": "1df1d338",
   "metadata": {
    "execution": {
     "iopub.execute_input": "2024-03-21T17:44:24.149908Z",
     "iopub.status.busy": "2024-03-21T17:44:24.149734Z",
     "iopub.status.idle": "2024-03-21T17:44:24.153339Z",
     "shell.execute_reply": "2024-03-21T17:44:24.152871Z"
    }
   },
   "outputs": [],
   "source": [
    "# Create multi-index set:\n",
    "multis = np.array([[0], [1], [2], [3], [4], [5]])\n",
    "# multis = np.array([[0], [1]])  # For Gaussian test case\n",
    "mset = MultiIndexSet(multis)\n",
    "fixed_mset = mset.fix(True)"
   ]
  },
  {
   "cell_type": "code",
   "execution_count": 8,
   "id": "2e54a9c1",
   "metadata": {
    "execution": {
     "iopub.execute_input": "2024-03-21T17:44:24.155426Z",
     "iopub.status.busy": "2024-03-21T17:44:24.155054Z",
     "iopub.status.idle": "2024-03-21T17:44:24.157654Z",
     "shell.execute_reply": "2024-03-21T17:44:24.157187Z"
    },
    "lines_to_next_cell": 1
   },
   "outputs": [],
   "source": [
    "# Set MapOptions and make map\n",
    "opts = MapOptions()\n",
    "opts.basisType = BasisTypes.HermiteFunctions\n",
    "#opts.basisType = BasisTypes.PhysicistHermite\n",
    "monotoneMap = CreateComponent(fixed_mset, opts)"
   ]
  },
  {
   "cell_type": "code",
   "execution_count": 9,
   "id": "a9f6c348",
   "metadata": {
    "execution": {
     "iopub.execute_input": "2024-03-21T17:44:24.159516Z",
     "iopub.status.busy": "2024-03-21T17:44:24.159354Z",
     "iopub.status.idle": "2024-03-21T17:44:24.162953Z",
     "shell.execute_reply": "2024-03-21T17:44:24.162476Z"
    },
    "lines_to_next_cell": 1
   },
   "outputs": [],
   "source": [
    "# KL divergence objective\n",
    "def objective(coeffs, monotoneMap, x, num_points):\n",
    "    monotoneMap.SetCoeffs(coeffs)\n",
    "    map_of_x = monotoneMap.Evaluate(x)\n",
    "    ref_logpdf_of_map_of_x = rv.logpdf(map_of_x)\n",
    "    log_det = monotoneMap.LogDeterminant(x)\n",
    "    return -np.sum(ref_logpdf_of_map_of_x + log_det)/num_points"
   ]
  },
  {
   "cell_type": "code",
   "execution_count": 10,
   "id": "ce4f370d",
   "metadata": {
    "execution": {
     "iopub.execute_input": "2024-03-21T17:44:24.164724Z",
     "iopub.status.busy": "2024-03-21T17:44:24.164562Z",
     "iopub.status.idle": "2024-03-21T17:44:27.229564Z",
     "shell.execute_reply": "2024-03-21T17:44:27.229057Z"
    }
   },
   "outputs": [
    {
     "name": "stdout",
     "output_type": "stream",
     "text": [
      "Starting coeffs\n",
      "[0. 0. 0. 0. 0. 0.]\n",
      "and error: 1.61E+00\n"
     ]
    },
    {
     "name": "stdout",
     "output_type": "stream",
     "text": [
      "Final coeffs\n",
      "[-0.28296641  0.3779974   1.04100352 -0.1040189   0.22265943  0.12548309]\n",
      "and error: 1.49E+00\n"
     ]
    }
   ],
   "source": [
    "# Optimize\n",
    "print('Starting coeffs')\n",
    "print(monotoneMap.CoeffMap())\n",
    "print('and error: {:.2E}'.format(objective(monotoneMap.CoeffMap(), monotoneMap, x, num_points)))\n",
    "res = minimize(objective, monotoneMap.CoeffMap(), args=(monotoneMap, x, num_points), method=\"Nelder-Mead\")\n",
    "print('Final coeffs')\n",
    "print(monotoneMap.CoeffMap())\n",
    "print('and error: {:.2E}'.format(objective(monotoneMap.CoeffMap(), monotoneMap, x, num_points)))"
   ]
  },
  {
   "cell_type": "code",
   "execution_count": 11,
   "id": "65c0346d",
   "metadata": {
    "execution": {
     "iopub.execute_input": "2024-03-21T17:44:27.231674Z",
     "iopub.status.busy": "2024-03-21T17:44:27.231498Z",
     "iopub.status.idle": "2024-03-21T17:44:27.372625Z",
     "shell.execute_reply": "2024-03-21T17:44:27.372152Z"
    }
   },
   "outputs": [
    {
     "data": {
      "image/png": "[encoded data removed]",
      "text/plain": [
       "<Figure size 640x480 with 1 Axes>"
      ]
     },
     "metadata": {},
     "output_type": "display_data"
    }
   ],
   "source": [
    "# After optimization plot\n",
    "map_of_x = monotoneMap.Evaluate(x)\n",
    "plt.figure()\n",
    "plt.hist(map_of_x.flatten(), num_bins, facecolor='blue', alpha=0.5, density=True, label='Normalized samples')\n",
    "plt.plot(t,rho_t,label=\"Reference density\")\n",
    "plt.legend()\n",
    "plt.show()"
   ]
  }
 ],
 "metadata": {
  "jupytext": {
   "cell_metadata_filter": "-all",
   "formats": "ipynb,py",
   "main_language": "python"
  },
  "language_info": {
   "codemirror_mode": {
    "name": "ipython",
    "version": 3
   },
   "file_extension": ".py",
   "mimetype": "text/x-python",
   "name": "python",
   "nbconvert_exporter": "python",
   "pygments_lexer": "ipython3",
   "version": "3.12.2"
  }
 },
 "nbformat": 4,
 "nbformat_minor": 5
}
