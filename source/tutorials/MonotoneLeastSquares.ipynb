{
 "cells": [
  {
   "cell_type": "markdown",
   "id": "c86b76b7",
   "metadata": {},
   "source": [
    "# Monotone least squares"
   ]
  },
  {
   "cell_type": "code",
   "execution_count": 1,
   "id": "acf9a455",
   "metadata": {
    "execution": {
     "iopub.execute_input": "2022-08-04T19:03:14.341954Z",
     "iopub.status.busy": "2022-08-04T19:03:14.341444Z",
     "iopub.status.idle": "2022-08-04T19:03:14.877232Z",
     "shell.execute_reply": "2022-08-04T19:03:14.876482Z"
    },
    "lines_to_next_cell": 2
   },
   "outputs": [
    {
     "ename": "ModuleNotFoundError",
     "evalue": "No module named 'mpart'",
     "output_type": "error",
     "traceback": [
      "\u001b[0;31m---------------------------------------------------------------------------\u001b[0m",
      "\u001b[0;31mModuleNotFoundError\u001b[0m                       Traceback (most recent call last)",
      "Input \u001b[0;32mIn [1]\u001b[0m, in \u001b[0;36m<cell line: 1>\u001b[0;34m()\u001b[0m\n\u001b[0;32m----> 1\u001b[0m \u001b[38;5;28;01mfrom\u001b[39;00m \u001b[38;5;21;01mmpart\u001b[39;00m \u001b[38;5;28;01mimport\u001b[39;00m \u001b[38;5;241m*\u001b[39m\n\u001b[1;32m      2\u001b[0m \u001b[38;5;28;01mimport\u001b[39;00m \u001b[38;5;21;01mnumpy\u001b[39;00m \u001b[38;5;28;01mas\u001b[39;00m \u001b[38;5;21;01mnp\u001b[39;00m\n\u001b[1;32m      3\u001b[0m \u001b[38;5;28;01mfrom\u001b[39;00m \u001b[38;5;21;01mscipy\u001b[39;00m\u001b[38;5;21;01m.\u001b[39;00m\u001b[38;5;21;01moptimize\u001b[39;00m \u001b[38;5;28;01mimport\u001b[39;00m minimize\n",
      "\u001b[0;31mModuleNotFoundError\u001b[0m: No module named 'mpart'"
     ]
    }
   ],
   "source": [
    "from mpart import *\n",
    "import numpy as np\n",
    "from scipy.optimize import minimize\n",
    "import matplotlib.pyplot as plt"
   ]
  },
  {
   "cell_type": "code",
   "execution_count": 2,
   "id": "a6763034",
   "metadata": {
    "execution": {
     "iopub.execute_input": "2022-08-04T19:03:14.881384Z",
     "iopub.status.busy": "2022-08-04T19:03:14.880947Z",
     "iopub.status.idle": "2022-08-04T19:03:14.898471Z",
     "shell.execute_reply": "2022-08-04T19:03:14.897721Z"
    },
    "lines_to_next_cell": 2
   },
   "outputs": [
    {
     "ename": "NameError",
     "evalue": "name 'np' is not defined",
     "output_type": "error",
     "traceback": [
      "\u001b[0;31m---------------------------------------------------------------------------\u001b[0m",
      "\u001b[0;31mNameError\u001b[0m                                 Traceback (most recent call last)",
      "Input \u001b[0;32mIn [2]\u001b[0m, in \u001b[0;36m<cell line: 4>\u001b[0;34m()\u001b[0m\n\u001b[1;32m      2\u001b[0m num_points \u001b[38;5;241m=\u001b[39m \u001b[38;5;241m1000\u001b[39m\n\u001b[1;32m      3\u001b[0m xmin, xmax \u001b[38;5;241m=\u001b[39m \u001b[38;5;241m0\u001b[39m, \u001b[38;5;241m4\u001b[39m\n\u001b[0;32m----> 4\u001b[0m x \u001b[38;5;241m=\u001b[39m \u001b[43mnp\u001b[49m\u001b[38;5;241m.\u001b[39mlinspace(xmin, xmax, num_points)[\u001b[38;5;28;01mNone\u001b[39;00m,:]\n",
      "\u001b[0;31mNameError\u001b[0m: name 'np' is not defined"
     ]
    }
   ],
   "source": [
    "# geometry\n",
    "num_points = 1000\n",
    "xmin, xmax = 0, 4\n",
    "x = np.linspace(xmin, xmax, num_points)[None,:]"
   ]
  },
  {
   "cell_type": "code",
   "execution_count": 3,
   "id": "e10b87fb",
   "metadata": {
    "execution": {
     "iopub.execute_input": "2022-08-04T19:03:14.901920Z",
     "iopub.status.busy": "2022-08-04T19:03:14.901522Z",
     "iopub.status.idle": "2022-08-04T19:03:14.919908Z",
     "shell.execute_reply": "2022-08-04T19:03:14.919238Z"
    },
    "lines_to_next_cell": 2
   },
   "outputs": [
    {
     "ename": "NameError",
     "evalue": "name 'x' is not defined",
     "output_type": "error",
     "traceback": [
      "\u001b[0;31m---------------------------------------------------------------------------\u001b[0m",
      "\u001b[0;31mNameError\u001b[0m                                 Traceback (most recent call last)",
      "Input \u001b[0;32mIn [3]\u001b[0m, in \u001b[0;36m<cell line: 5>\u001b[0;34m()\u001b[0m\n\u001b[1;32m      1\u001b[0m \u001b[38;5;66;03m# Take measurements of step function, note: data might \u001b[39;00m\n\u001b[1;32m      2\u001b[0m \u001b[38;5;66;03m# not monotone because of the noise, but we assume the \u001b[39;00m\n\u001b[1;32m      3\u001b[0m \u001b[38;5;66;03m# true underlying function is monotone.\u001b[39;00m\n\u001b[1;32m      4\u001b[0m noisesd \u001b[38;5;241m=\u001b[39m \u001b[38;5;241m0.4\u001b[39m\n\u001b[0;32m----> 5\u001b[0m y_true \u001b[38;5;241m=\u001b[39m \u001b[38;5;241m2\u001b[39m\u001b[38;5;241m*\u001b[39m(\u001b[43mx\u001b[49m\u001b[38;5;241m>\u001b[39m\u001b[38;5;241m2\u001b[39m)\n\u001b[1;32m      6\u001b[0m y_noise \u001b[38;5;241m=\u001b[39m noisesd\u001b[38;5;241m*\u001b[39mnp\u001b[38;5;241m.\u001b[39mrandom\u001b[38;5;241m.\u001b[39mrandn(num_points) \n\u001b[1;32m      7\u001b[0m y_measured \u001b[38;5;241m=\u001b[39m y_true \u001b[38;5;241m+\u001b[39m y_noise\n",
      "\u001b[0;31mNameError\u001b[0m: name 'x' is not defined"
     ]
    }
   ],
   "source": [
    "# Take measurements of step function, note: data might \n",
    "# not monotone because of the noise, but we assume the \n",
    "# true underlying function is monotone.\n",
    "noisesd = 0.4\n",
    "y_true = 2*(x>2)\n",
    "y_noise = noisesd*np.random.randn(num_points) \n",
    "y_measured = y_true + y_noise"
   ]
  },
  {
   "cell_type": "code",
   "execution_count": 4,
   "id": "77fd66e5",
   "metadata": {
    "execution": {
     "iopub.execute_input": "2022-08-04T19:03:14.923387Z",
     "iopub.status.busy": "2022-08-04T19:03:14.922908Z",
     "iopub.status.idle": "2022-08-04T19:03:14.941709Z",
     "shell.execute_reply": "2022-08-04T19:03:14.941045Z"
    },
    "lines_to_next_cell": 2
   },
   "outputs": [
    {
     "ename": "NameError",
     "evalue": "name 'np' is not defined",
     "output_type": "error",
     "traceback": [
      "\u001b[0;31m---------------------------------------------------------------------------\u001b[0m",
      "\u001b[0;31mNameError\u001b[0m                                 Traceback (most recent call last)",
      "Input \u001b[0;32mIn [4]\u001b[0m, in \u001b[0;36m<cell line: 2>\u001b[0;34m()\u001b[0m\n\u001b[1;32m      1\u001b[0m \u001b[38;5;66;03m# Create multi-index set:\u001b[39;00m\n\u001b[0;32m----> 2\u001b[0m multis \u001b[38;5;241m=\u001b[39m \u001b[43mnp\u001b[49m\u001b[38;5;241m.\u001b[39marray([[\u001b[38;5;241m0\u001b[39m], [\u001b[38;5;241m1\u001b[39m], [\u001b[38;5;241m2\u001b[39m], [\u001b[38;5;241m3\u001b[39m], [\u001b[38;5;241m4\u001b[39m], [\u001b[38;5;241m5\u001b[39m]])\n\u001b[1;32m      3\u001b[0m mset \u001b[38;5;241m=\u001b[39m MultiIndexSet(multis)\n\u001b[1;32m      4\u001b[0m fixed_mset \u001b[38;5;241m=\u001b[39m mset\u001b[38;5;241m.\u001b[39mfix(\u001b[38;5;28;01mTrue\u001b[39;00m)\n",
      "\u001b[0;31mNameError\u001b[0m: name 'np' is not defined"
     ]
    }
   ],
   "source": [
    "# Create multi-index set:\n",
    "multis = np.array([[0], [1], [2], [3], [4], [5]])\n",
    "mset = MultiIndexSet(multis)\n",
    "fixed_mset = mset.fix(True)"
   ]
  },
  {
   "cell_type": "code",
   "execution_count": 5,
   "id": "26e9b41c",
   "metadata": {
    "execution": {
     "iopub.execute_input": "2022-08-04T19:03:14.945200Z",
     "iopub.status.busy": "2022-08-04T19:03:14.944608Z",
     "iopub.status.idle": "2022-08-04T19:03:14.960619Z",
     "shell.execute_reply": "2022-08-04T19:03:14.959963Z"
    }
   },
   "outputs": [
    {
     "ename": "NameError",
     "evalue": "name 'MapOptions' is not defined",
     "output_type": "error",
     "traceback": [
      "\u001b[0;31m---------------------------------------------------------------------------\u001b[0m",
      "\u001b[0;31mNameError\u001b[0m                                 Traceback (most recent call last)",
      "Input \u001b[0;32mIn [5]\u001b[0m, in \u001b[0;36m<cell line: 2>\u001b[0;34m()\u001b[0m\n\u001b[1;32m      1\u001b[0m \u001b[38;5;66;03m# Set options and make regression function\u001b[39;00m\n\u001b[0;32m----> 2\u001b[0m opts \u001b[38;5;241m=\u001b[39m \u001b[43mMapOptions\u001b[49m()\n\u001b[1;32m      3\u001b[0m monotone_map \u001b[38;5;241m=\u001b[39m CreateComponent(fixed_mset, opts)\n",
      "\u001b[0;31mNameError\u001b[0m: name 'MapOptions' is not defined"
     ]
    }
   ],
   "source": [
    "# Set options and make regression function\n",
    "opts = MapOptions()\n",
    "monotone_map = CreateComponent(fixed_mset, opts)"
   ]
  },
  {
   "cell_type": "code",
   "execution_count": 6,
   "id": "8538fff4",
   "metadata": {
    "execution": {
     "iopub.execute_input": "2022-08-04T19:03:14.964174Z",
     "iopub.status.busy": "2022-08-04T19:03:14.963807Z",
     "iopub.status.idle": "2022-08-04T19:03:14.968855Z",
     "shell.execute_reply": "2022-08-04T19:03:14.968219Z"
    }
   },
   "outputs": [],
   "source": [
    "# Least squares objective\n",
    "def objective(coeffs, monotone_map, x, y_measured):\n",
    "    monotone_map.SetCoeffs(coeffs)\n",
    "    map_of_x = monotone_map.Evaluate(x)\n",
    "    return np.sum((map_of_x - y_measured)**2)/x.shape[1]"
   ]
  },
  {
   "cell_type": "code",
   "execution_count": 7,
   "id": "0e6314f8",
   "metadata": {
    "execution": {
     "iopub.execute_input": "2022-08-04T19:03:14.971985Z",
     "iopub.status.busy": "2022-08-04T19:03:14.971742Z",
     "iopub.status.idle": "2022-08-04T19:03:14.975653Z",
     "shell.execute_reply": "2022-08-04T19:03:14.974933Z"
    }
   },
   "outputs": [],
   "source": [
    "# gradient of objective\n",
    "def grad_objective(coeffs, monotone_map, x, y_measured):\n",
    "    monotone_map.SetCoeffs(coeffs)\n",
    "    map_of_x = monotone_map.Evaluate(x)\n",
    "    return 2*np.sum(monotone_map.CoeffGrad(x, map_of_x - y_measured),1)/x.shape[1]"
   ]
  },
  {
   "cell_type": "code",
   "execution_count": 8,
   "id": "4a31e658",
   "metadata": {
    "execution": {
     "iopub.execute_input": "2022-08-04T19:03:14.978800Z",
     "iopub.status.busy": "2022-08-04T19:03:14.978559Z",
     "iopub.status.idle": "2022-08-04T19:03:14.994197Z",
     "shell.execute_reply": "2022-08-04T19:03:14.993472Z"
    },
    "lines_to_next_cell": 2
   },
   "outputs": [
    {
     "ename": "NameError",
     "evalue": "name 'monotone_map' is not defined",
     "output_type": "error",
     "traceback": [
      "\u001b[0;31m---------------------------------------------------------------------------\u001b[0m",
      "\u001b[0;31mNameError\u001b[0m                                 Traceback (most recent call last)",
      "Input \u001b[0;32mIn [8]\u001b[0m, in \u001b[0;36m<cell line: 2>\u001b[0;34m()\u001b[0m\n\u001b[1;32m      1\u001b[0m \u001b[38;5;66;03m# Before optimization\u001b[39;00m\n\u001b[0;32m----> 2\u001b[0m map_of_x_before \u001b[38;5;241m=\u001b[39m \u001b[43mmonotone_map\u001b[49m\u001b[38;5;241m.\u001b[39mEvaluate(x)\n\u001b[1;32m      3\u001b[0m error_before \u001b[38;5;241m=\u001b[39m objective(monotone_map\u001b[38;5;241m.\u001b[39mCoeffMap(), monotone_map, x, y_measured)\n",
      "\u001b[0;31mNameError\u001b[0m: name 'monotone_map' is not defined"
     ]
    }
   ],
   "source": [
    "# Before optimization\n",
    "map_of_x_before = monotone_map.Evaluate(x)\n",
    "error_before = objective(monotone_map.CoeffMap(), monotone_map, x, y_measured)"
   ]
  },
  {
   "cell_type": "code",
   "execution_count": 9,
   "id": "8bab78e0",
   "metadata": {
    "execution": {
     "iopub.execute_input": "2022-08-04T19:03:14.997571Z",
     "iopub.status.busy": "2022-08-04T19:03:14.997329Z",
     "iopub.status.idle": "2022-08-04T19:03:15.014680Z",
     "shell.execute_reply": "2022-08-04T19:03:15.013944Z"
    },
    "lines_to_next_cell": 2
   },
   "outputs": [
    {
     "ename": "NameError",
     "evalue": "name 'minimize' is not defined",
     "output_type": "error",
     "traceback": [
      "\u001b[0;31m---------------------------------------------------------------------------\u001b[0m",
      "\u001b[0;31mNameError\u001b[0m                                 Traceback (most recent call last)",
      "Input \u001b[0;32mIn [9]\u001b[0m, in \u001b[0;36m<cell line: 3>\u001b[0;34m()\u001b[0m\n\u001b[1;32m      1\u001b[0m \u001b[38;5;66;03m# Optimize\u001b[39;00m\n\u001b[1;32m      2\u001b[0m optimizer_options\u001b[38;5;241m=\u001b[39m{\u001b[38;5;124m'\u001b[39m\u001b[38;5;124mgtol\u001b[39m\u001b[38;5;124m'\u001b[39m: \u001b[38;5;241m1e-4\u001b[39m, \u001b[38;5;124m'\u001b[39m\u001b[38;5;124mdisp\u001b[39m\u001b[38;5;124m'\u001b[39m: \u001b[38;5;28;01mTrue\u001b[39;00m}\n\u001b[0;32m----> 3\u001b[0m res \u001b[38;5;241m=\u001b[39m \u001b[43mminimize\u001b[49m(objective, monotone_map\u001b[38;5;241m.\u001b[39mCoeffMap(), args\u001b[38;5;241m=\u001b[39m(monotone_map, x, y_measured), jac\u001b[38;5;241m=\u001b[39mgrad_objective, method\u001b[38;5;241m=\u001b[39m\u001b[38;5;124m'\u001b[39m\u001b[38;5;124mBFGS\u001b[39m\u001b[38;5;124m'\u001b[39m, options\u001b[38;5;241m=\u001b[39moptimizer_options)\n",
      "\u001b[0;31mNameError\u001b[0m: name 'minimize' is not defined"
     ]
    }
   ],
   "source": [
    "# Optimize\n",
    "optimizer_options={'gtol': 1e-4, 'disp': True}\n",
    "res = minimize(objective, monotone_map.CoeffMap(), args=(monotone_map, x, y_measured), jac=grad_objective, method='BFGS', options=optimizer_options)"
   ]
  },
  {
   "cell_type": "code",
   "execution_count": 10,
   "id": "8efd147c",
   "metadata": {
    "execution": {
     "iopub.execute_input": "2022-08-04T19:03:15.018542Z",
     "iopub.status.busy": "2022-08-04T19:03:15.018299Z",
     "iopub.status.idle": "2022-08-04T19:03:15.034981Z",
     "shell.execute_reply": "2022-08-04T19:03:15.034239Z"
    },
    "lines_to_next_cell": 2
   },
   "outputs": [
    {
     "ename": "NameError",
     "evalue": "name 'monotone_map' is not defined",
     "output_type": "error",
     "traceback": [
      "\u001b[0;31m---------------------------------------------------------------------------\u001b[0m",
      "\u001b[0;31mNameError\u001b[0m                                 Traceback (most recent call last)",
      "Input \u001b[0;32mIn [10]\u001b[0m, in \u001b[0;36m<cell line: 2>\u001b[0;34m()\u001b[0m\n\u001b[1;32m      1\u001b[0m \u001b[38;5;66;03m# After optimization\u001b[39;00m\n\u001b[0;32m----> 2\u001b[0m map_of_x_after \u001b[38;5;241m=\u001b[39m \u001b[43mmonotone_map\u001b[49m\u001b[38;5;241m.\u001b[39mEvaluate(x)\n\u001b[1;32m      3\u001b[0m error_after \u001b[38;5;241m=\u001b[39m objective(monotone_map\u001b[38;5;241m.\u001b[39mCoeffMap(), monotone_map, x, y_measured)\n",
      "\u001b[0;31mNameError\u001b[0m: name 'monotone_map' is not defined"
     ]
    }
   ],
   "source": [
    "# After optimization\n",
    "map_of_x_after = monotone_map.Evaluate(x)\n",
    "error_after = objective(monotone_map.CoeffMap(), monotone_map, x, y_measured)"
   ]
  },
  {
   "cell_type": "code",
   "execution_count": 11,
   "id": "44d0a055",
   "metadata": {
    "execution": {
     "iopub.execute_input": "2022-08-04T19:03:15.038476Z",
     "iopub.status.busy": "2022-08-04T19:03:15.038228Z",
     "iopub.status.idle": "2022-08-04T19:03:15.060912Z",
     "shell.execute_reply": "2022-08-04T19:03:15.060160Z"
    },
    "lines_to_next_cell": 2
   },
   "outputs": [
    {
     "ename": "NameError",
     "evalue": "name 'plt' is not defined",
     "output_type": "error",
     "traceback": [
      "\u001b[0;31m---------------------------------------------------------------------------\u001b[0m",
      "\u001b[0;31mNameError\u001b[0m                                 Traceback (most recent call last)",
      "Input \u001b[0;32mIn [11]\u001b[0m, in \u001b[0;36m<cell line: 2>\u001b[0;34m()\u001b[0m\n\u001b[1;32m      1\u001b[0m \u001b[38;5;66;03m# Plot data (before and after together)\u001b[39;00m\n\u001b[0;32m----> 2\u001b[0m \u001b[43mplt\u001b[49m\u001b[38;5;241m.\u001b[39mfigure()\n\u001b[1;32m      3\u001b[0m plt\u001b[38;5;241m.\u001b[39mtitle(\u001b[38;5;124m'\u001b[39m\u001b[38;5;124mStarting map error: \u001b[39m\u001b[38;5;132;01m{:.2E}\u001b[39;00m\u001b[38;5;124m / Final map error: \u001b[39m\u001b[38;5;132;01m{:.2E}\u001b[39;00m\u001b[38;5;124m'\u001b[39m\u001b[38;5;241m.\u001b[39mformat(error_before, error_after))\n\u001b[1;32m      4\u001b[0m plt\u001b[38;5;241m.\u001b[39mplot(x\u001b[38;5;241m.\u001b[39mflatten(),y_true\u001b[38;5;241m.\u001b[39mflatten(),\u001b[38;5;124m'\u001b[39m\u001b[38;5;124m*--\u001b[39m\u001b[38;5;124m'\u001b[39m,label\u001b[38;5;241m=\u001b[39m\u001b[38;5;124m'\u001b[39m\u001b[38;5;124mtrue data\u001b[39m\u001b[38;5;124m'\u001b[39m, alpha\u001b[38;5;241m=\u001b[39m\u001b[38;5;241m0.8\u001b[39m)\n",
      "\u001b[0;31mNameError\u001b[0m: name 'plt' is not defined"
     ]
    }
   ],
   "source": [
    "# Plot data (before and after together)\n",
    "plt.figure()\n",
    "plt.title('Starting map error: {:.2E} / Final map error: {:.2E}'.format(error_before, error_after))\n",
    "plt.plot(x.flatten(),y_true.flatten(),'*--',label='true data', alpha=0.8)\n",
    "plt.plot(x.flatten(),y_measured.flatten(),'*--',label='measured data', alpha=0.4)\n",
    "plt.plot(x.flatten(),map_of_x_before.flatten(),'*--',label='initial map output', color=\"green\", alpha=0.8)\n",
    "plt.plot(x.flatten(),map_of_x_after.flatten(),'*--',label='final map output', color=\"red\", alpha=0.8)\n",
    "plt.legend()\n",
    "plt.show()"
   ]
  },
  {
   "cell_type": "code",
   "execution_count": 12,
   "id": "994898c6",
   "metadata": {
    "execution": {
     "iopub.execute_input": "2022-08-04T19:03:15.064100Z",
     "iopub.status.busy": "2022-08-04T19:03:15.063847Z",
     "iopub.status.idle": "2022-08-04T19:03:15.084700Z",
     "shell.execute_reply": "2022-08-04T19:03:15.083956Z"
    },
    "lines_to_next_cell": 2
   },
   "outputs": [
    {
     "ename": "NameError",
     "evalue": "name 'plt' is not defined",
     "output_type": "error",
     "traceback": [
      "\u001b[0;31m---------------------------------------------------------------------------\u001b[0m",
      "\u001b[0;31mNameError\u001b[0m                                 Traceback (most recent call last)",
      "Input \u001b[0;32mIn [12]\u001b[0m, in \u001b[0;36m<cell line: 2>\u001b[0;34m()\u001b[0m\n\u001b[1;32m      1\u001b[0m \u001b[38;5;66;03m# Plot data (before and after apart)\u001b[39;00m\n\u001b[0;32m----> 2\u001b[0m \u001b[43mplt\u001b[49m\u001b[38;5;241m.\u001b[39mfigure()\n\u001b[1;32m      3\u001b[0m plt\u001b[38;5;241m.\u001b[39mtitle(\u001b[38;5;124m'\u001b[39m\u001b[38;5;124mStarting map error: \u001b[39m\u001b[38;5;132;01m{:.2E}\u001b[39;00m\u001b[38;5;124m'\u001b[39m\u001b[38;5;241m.\u001b[39mformat(error_before))\n\u001b[1;32m      4\u001b[0m plt\u001b[38;5;241m.\u001b[39mplot(x\u001b[38;5;241m.\u001b[39mflatten(),y_true\u001b[38;5;241m.\u001b[39mflatten(),\u001b[38;5;124m'\u001b[39m\u001b[38;5;124m*--\u001b[39m\u001b[38;5;124m'\u001b[39m,label\u001b[38;5;241m=\u001b[39m\u001b[38;5;124m'\u001b[39m\u001b[38;5;124mtrue data\u001b[39m\u001b[38;5;124m'\u001b[39m, alpha\u001b[38;5;241m=\u001b[39m\u001b[38;5;241m0.8\u001b[39m)\n",
      "\u001b[0;31mNameError\u001b[0m: name 'plt' is not defined"
     ]
    }
   ],
   "source": [
    "# Plot data (before and after apart)\n",
    "plt.figure()\n",
    "plt.title('Starting map error: {:.2E}'.format(error_before))\n",
    "plt.plot(x.flatten(),y_true.flatten(),'*--',label='true data', alpha=0.8)\n",
    "plt.plot(x.flatten(),y_measured.flatten(),'*--',label='measured data', alpha=0.4)\n",
    "plt.plot(x.flatten(),map_of_x_before.flatten(),'*--',label='initial map output', color=\"green\", alpha=0.8)\n",
    "plt.legend()\n",
    "plt.show()"
   ]
  },
  {
   "cell_type": "code",
   "execution_count": 13,
   "id": "5ac75ae0",
   "metadata": {
    "execution": {
     "iopub.execute_input": "2022-08-04T19:03:15.087996Z",
     "iopub.status.busy": "2022-08-04T19:03:15.087605Z",
     "iopub.status.idle": "2022-08-04T19:03:15.109994Z",
     "shell.execute_reply": "2022-08-04T19:03:15.109313Z"
    }
   },
   "outputs": [
    {
     "ename": "NameError",
     "evalue": "name 'plt' is not defined",
     "output_type": "error",
     "traceback": [
      "\u001b[0;31m---------------------------------------------------------------------------\u001b[0m",
      "\u001b[0;31mNameError\u001b[0m                                 Traceback (most recent call last)",
      "Input \u001b[0;32mIn [13]\u001b[0m, in \u001b[0;36m<cell line: 1>\u001b[0;34m()\u001b[0m\n\u001b[0;32m----> 1\u001b[0m \u001b[43mplt\u001b[49m\u001b[38;5;241m.\u001b[39mfigure()\n\u001b[1;32m      2\u001b[0m plt\u001b[38;5;241m.\u001b[39mtitle(\u001b[38;5;124m'\u001b[39m\u001b[38;5;124mFinal map error: \u001b[39m\u001b[38;5;132;01m{:.2E}\u001b[39;00m\u001b[38;5;124m'\u001b[39m\u001b[38;5;241m.\u001b[39mformat(error_after))\n\u001b[1;32m      3\u001b[0m plt\u001b[38;5;241m.\u001b[39mplot(x\u001b[38;5;241m.\u001b[39mflatten(),y_true\u001b[38;5;241m.\u001b[39mflatten(),\u001b[38;5;124m'\u001b[39m\u001b[38;5;124m*--\u001b[39m\u001b[38;5;124m'\u001b[39m,label\u001b[38;5;241m=\u001b[39m\u001b[38;5;124m'\u001b[39m\u001b[38;5;124mtrue data\u001b[39m\u001b[38;5;124m'\u001b[39m, alpha\u001b[38;5;241m=\u001b[39m\u001b[38;5;241m0.8\u001b[39m)\n",
      "\u001b[0;31mNameError\u001b[0m: name 'plt' is not defined"
     ]
    }
   ],
   "source": [
    "plt.figure()\n",
    "plt.title('Final map error: {:.2E}'.format(error_after))\n",
    "plt.plot(x.flatten(),y_true.flatten(),'*--',label='true data', alpha=0.8)\n",
    "plt.plot(x.flatten(),y_measured.flatten(),'*--',label='measured data', alpha=0.4)\n",
    "plt.plot(x.flatten(),map_of_x_after.flatten(),'*--',label='final map output', color=\"red\", alpha=0.8)\n",
    "plt.legend()\n",
    "plt.show()"
   ]
  }
 ],
 "metadata": {
  "jupytext": {
   "cell_metadata_filter": "-all",
   "formats": "ipynb,py",
   "main_language": "python"
  },
  "language_info": {
   "codemirror_mode": {
    "name": "ipython",
    "version": 3
   },
   "file_extension": ".py",
   "mimetype": "text/x-python",
   "name": "python",
   "nbconvert_exporter": "python",
   "pygments_lexer": "ipython3",
   "version": "3.8.13"
  }
 },
 "nbformat": 4,
 "nbformat_minor": 5
}
