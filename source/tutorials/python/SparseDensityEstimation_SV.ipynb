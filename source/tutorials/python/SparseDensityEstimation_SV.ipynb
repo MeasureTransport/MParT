{
 "cells": [
  {
   "cell_type": "markdown",
   "id": "a15f3302",
   "metadata": {},
   "source": [
    "# Density estimation with sparse transport maps"
   ]
  },
  {
   "cell_type": "markdown",
   "id": "8888290b",
   "metadata": {},
   "source": [
    "In this example we demonstrate how MParT can be use to build map with certain sparse structure in order to characterize high dimensional densities with conditional independence."
   ]
  },
  {
   "cell_type": "markdown",
   "id": "3ed657c1",
   "metadata": {},
   "source": [
    "## Imports\n",
    "First, import MParT and other packages used in this notebook. Note that it is possible to specify the number of threads used by MParT by setting the `KOKKOS_NUM_THREADS` environment variable **before** importing MParT."
   ]
  },
  {
   "cell_type": "code",
   "execution_count": 1,
   "id": "b7bde703",
   "metadata": {
    "execution": {
     "iopub.execute_input": "2024-03-21T17:44:50.525376Z",
     "iopub.status.busy": "2024-03-21T17:44:50.525208Z",
     "iopub.status.idle": "2024-03-21T17:44:52.360625Z",
     "shell.execute_reply": "2024-03-21T17:44:52.360094Z"
    }
   },
   "outputs": [
    {
     "name": "stdout",
     "output_type": "stream",
     "text": [
      "Kokkos::OpenMP::initialize WARNING: You are likely oversubscribing your CPU cores.\n",
      "  process threads available :   4,  requested thread :   8\n"
     ]
    },
    {
     "name": "stderr",
     "output_type": "stream",
     "text": [
      "Kokkos::OpenMP::initialize WARNING: You are likely oversubscribing your CPU cores.\n",
      "                                    Detected: 4 cores per node.\n",
      "                                    Detected: 1 MPI_ranks per node.\n",
      "                                    Requested: 8 threads per process.\n"
     ]
    },
    {
     "name": "stdout",
     "output_type": "stream",
     "text": [
      "Kokkos is using 8 threads\n"
     ]
    }
   ],
   "source": [
    "import numpy as np\n",
    "from scipy.optimize import minimize\n",
    "import matplotlib.pyplot as plt\n",
    "from scipy.stats import multivariate_normal\n",
    "from tqdm import tqdm\n",
    "\n",
    "import os\n",
    "os.environ['KOKKOS_NUM_THREADS'] = '8'\n",
    "\n",
    "import mpart as mt\n",
    "print('Kokkos is using', mt.Concurrency(), 'threads')\n",
    "plt.rcParams['figure.dpi'] = 110"
   ]
  },
  {
   "cell_type": "markdown",
   "id": "23627b3c",
   "metadata": {},
   "source": [
    "## Stochastic volatility model"
   ]
  },
  {
   "cell_type": "markdown",
   "id": "e8c49968",
   "metadata": {},
   "source": [
    "### Problem description\n",
    "\n",
    "The problem considered here is a Markov process that describes the volatility on a financial asset overt time. The model depends on two hyperparamters $\\mu$ and $\\phi$ and state variable $Z_k$ represents log-volatility at times $k=1,...,T$. The log-volatility follows the order-one autoregressive process:\n",
    "$$Z_{k+1} = \\mu + \\phi(Z_k-\\mu) + \\epsilon_k, k>1, $$\n",
    "where\n",
    "$$\\mu \\sim \\mathcal{N}(0,1) $$\n",
    "$$ \\phi = 2\\frac{\\exp(\\phi^*)}{1+\\exp(\\phi^*)}, \\,\\,\\, \\phi^* \\sim \\mathcal{N}(3,1)$$\n",
    "$$ Z_0 | \\mu, \\phi \\sim \\mathcal{N}\\left(\\mu,\\frac{1}{1-\\phi^2}\\right)$$\n",
    "\n",
    "The objective is to characterize the joint density of\n",
    "$$\\mathbf{X}_T = (\\mu,\\phi,Z_1,...,Z_T), $$\n",
    "with $T$ being arbitrarly large. "
   ]
  },
  {
   "cell_type": "markdown",
   "id": "7b8403c5",
   "metadata": {},
   "source": [
    "The conditional independence property for this problem reads\n",
    "\n",
    "$$ \\pi(\\mathbf{x}_t|\\mathbf{x}_{<t}) = \\pi(\\mathbf{x}_t|\\mathbf{x}_{t-1},\\mu,\\phi)$$\n",
    "\n",
    "More details about this problem can be found in [[Baptista et al., 2022]](https://arxiv.org/pdf/2009.10303.pdf)."
   ]
  },
  {
   "cell_type": "markdown",
   "id": "776a5f48",
   "metadata": {},
   "source": [
    "### Sampling\n",
    "\n"
   ]
  },
  {
   "cell_type": "markdown",
   "id": "ae4d6174",
   "metadata": {},
   "source": [
    "Drawing samples $(\\mu^i,\\phi^i,x_0^i,x_1^i,...,x_T^i)$ can be performed by the following function"
   ]
  },
  {
   "cell_type": "code",
   "execution_count": 2,
   "id": "c9fb981e",
   "metadata": {
    "execution": {
     "iopub.execute_input": "2024-03-21T17:44:52.363272Z",
     "iopub.status.busy": "2024-03-21T17:44:52.363016Z",
     "iopub.status.idle": "2024-03-21T17:44:52.366844Z",
     "shell.execute_reply": "2024-03-21T17:44:52.366427Z"
    }
   },
   "outputs": [],
   "source": [
    "def generate_SV_samples(d,N):\n",
    "    # Sample hyper-parameters\n",
    "    sigma = 0.25\n",
    "    mu = np.random.randn(1,N)\n",
    "    phis = 3+np.random.randn(1,N)\n",
    "    phi = 2*np.exp(phis)/(1+np.exp(phis))-1\n",
    "    X = np.vstack((mu,phi))\n",
    "    if d > 2:\n",
    "        # Sample Z0\n",
    "        Z = np.sqrt(1/(1-phi**2))*np.random.randn(1,N) + mu\n",
    "\n",
    "        # Sample auto-regressively\n",
    "        for i in range(d-3):\n",
    "            Zi = mu + phi * (Z[-1,:] - mu)+sigma*np.random.randn(1,N)\n",
    "            Z = np.vstack((Z,Zi))\n",
    "\n",
    "        X = np.vstack((X,Z))\n",
    "    return X"
   ]
  },
  {
   "cell_type": "markdown",
   "id": "90687b5d",
   "metadata": {},
   "source": [
    "Set dimension of the problem:"
   ]
  },
  {
   "cell_type": "code",
   "execution_count": 3,
   "id": "ada07ed8",
   "metadata": {
    "execution": {
     "iopub.execute_input": "2024-03-21T17:44:52.368600Z",
     "iopub.status.busy": "2024-03-21T17:44:52.368426Z",
     "iopub.status.idle": "2024-03-21T17:44:52.370787Z",
     "shell.execute_reply": "2024-03-21T17:44:52.370287Z"
    }
   },
   "outputs": [],
   "source": [
    "T = 30 #number of time steps including initial condition\n",
    "d = T+2"
   ]
  },
  {
   "cell_type": "markdown",
   "id": "915a2e2e",
   "metadata": {},
   "source": [
    "Few realizations of the process look like"
   ]
  },
  {
   "cell_type": "code",
   "execution_count": 4,
   "id": "831253f0",
   "metadata": {
    "execution": {
     "iopub.execute_input": "2024-03-21T17:44:52.372566Z",
     "iopub.status.busy": "2024-03-21T17:44:52.372279Z",
     "iopub.status.idle": "2024-03-21T17:44:52.501341Z",
     "shell.execute_reply": "2024-03-21T17:44:52.500923Z"
    }
   },
   "outputs": [
    {
     "data": {
      "image/png": "[encoded data removed]",
      "text/plain": [
       "<Figure size 704x528 with 1 Axes>"
      ]
     },
     "metadata": {},
     "output_type": "display_data"
    }
   ],
   "source": [
    "Nvisu = 10 #Number of samples\n",
    "Xvisu = generate_SV_samples(d, Nvisu)\n",
    "\n",
    "Zvisu = Xvisu[2:,:]\n",
    "\n",
    "plt.figure()\n",
    "plt.plot(Zvisu)\n",
    "plt.xlabel(\"Days (d)\")\n",
    "plt.show()"
   ]
  },
  {
   "cell_type": "markdown",
   "id": "97741aec",
   "metadata": {},
   "source": [
    "And corresponding realization of hyperparameters"
   ]
  },
  {
   "cell_type": "code",
   "execution_count": 5,
   "id": "7e8562af",
   "metadata": {
    "execution": {
     "iopub.execute_input": "2024-03-21T17:44:52.503402Z",
     "iopub.status.busy": "2024-03-21T17:44:52.503090Z",
     "iopub.status.idle": "2024-03-21T17:44:52.635559Z",
     "shell.execute_reply": "2024-03-21T17:44:52.635109Z"
    }
   },
   "outputs": [
    {
     "name": "stderr",
     "output_type": "stream",
     "text": [
      "<>:3: SyntaxWarning: invalid escape sequence '\\m'\n",
      "<>:4: SyntaxWarning: invalid escape sequence '\\p'\n",
      "<>:3: SyntaxWarning: invalid escape sequence '\\m'\n",
      "<>:4: SyntaxWarning: invalid escape sequence '\\p'\n",
      "/tmp/ipykernel_268/2191412704.py:3: SyntaxWarning: invalid escape sequence '\\m'\n",
      "  plt.plot(range(1,Nvisu+1),Xvisu[1,:],label='$\\mu$')\n",
      "/tmp/ipykernel_268/2191412704.py:4: SyntaxWarning: invalid escape sequence '\\p'\n",
      "  plt.plot(range(1,Nvisu+1),Xvisu[2,:],label='$\\phi$')\n"
     ]
    },
    {
     "data": {
      "image/png": "[encoded data removed]",
      "text/plain": [
       "<Figure size 704x528 with 1 Axes>"
      ]
     },
     "metadata": {},
     "output_type": "display_data"
    }
   ],
   "source": [
    "hyper_params = Xvisu[:2,:]\n",
    "plt.figure()\n",
    "plt.plot(range(1,Nvisu+1),Xvisu[1,:],label='$\\mu$')\n",
    "plt.plot(range(1,Nvisu+1),Xvisu[2,:],label='$\\phi$')\n",
    "plt.xlabel('Samples')\n",
    "plt.legend()\n",
    "plt.show()"
   ]
  },
  {
   "cell_type": "markdown",
   "id": "1e650f5d",
   "metadata": {},
   "source": [
    "### Probability density function\n"
   ]
  },
  {
   "cell_type": "markdown",
   "id": "011bf987",
   "metadata": {},
   "source": [
    "The exact log-conditional densities used to define joint density $\\pi(\\mathbf{x}_T)$ are defined by the following function:"
   ]
  },
  {
   "cell_type": "code",
   "execution_count": 6,
   "id": "afa417f2",
   "metadata": {
    "execution": {
     "iopub.execute_input": "2024-03-21T17:44:52.637622Z",
     "iopub.status.busy": "2024-03-21T17:44:52.637322Z",
     "iopub.status.idle": "2024-03-21T17:44:52.641903Z",
     "shell.execute_reply": "2024-03-21T17:44:52.641432Z"
    }
   },
   "outputs": [],
   "source": [
    "def SV_log_pdf(X):\n",
    "    \n",
    "    def normpdf(x,mu,sigma):\n",
    "        return  np.exp(-0.5 * ((x - mu)/sigma)**2) / (np.sqrt(2*np.pi) * sigma)\n",
    "    \n",
    "    sigma = 0.25\n",
    "\n",
    "    # Extract variables mu, phi and states\n",
    "    mu = X[0,:]\n",
    "    phi = X[1,:]\n",
    "    Z = X[2:,:]\n",
    "\n",
    "    # Compute density for mu\n",
    "    piMu = multivariate_normal(np.zeros(1),np.eye(1))\n",
    "    logPdfMu = piMu.logpdf(mu)\n",
    "    # Compute density for phi\n",
    "    phiRef = np.log((1+phi)/(1-phi))\n",
    "    dphiRef = 2/(1-phi**2)\n",
    "    piPhi = multivariate_normal(3*np.ones(1),np.eye(1))\n",
    "    logPdfPhi = piPhi.logpdf(phiRef)+np.log(dphiRef)\n",
    "    # Add piMu, piPhi to density\n",
    "    logPdf = np.vstack((logPdfMu,logPdfPhi))\n",
    "\n",
    "    # Number of time steps\n",
    "    dz = Z.shape[0]\n",
    "    if dz > 0:\n",
    "        # Conditonal density for Z_0\n",
    "        muZ0 = mu\n",
    "        stdZ0 = np.sqrt(1/(1-phi**2))\n",
    "        logPdfZ0 = np.log(normpdf(Z[0,:],muZ0,stdZ0))\n",
    "        logPdf = np.vstack((logPdf,logPdfZ0))\n",
    "\n",
    "        # Compute auto-regressive conditional densities for Z_i|Z_{1:i-1}\n",
    "        for i in range(1,dz):\n",
    "            meanZi = mu + phi * (Z[i-1,:]-mu)\n",
    "            stdZi = sigma\n",
    "            logPdfZi = np.log(normpdf(Z[i,:],meanZi,stdZi))\n",
    "            logPdf = np.vstack((logPdf,logPdfZi))\n",
    "    return logPdf"
   ]
  },
  {
   "cell_type": "markdown",
   "id": "20a239e0",
   "metadata": {},
   "source": [
    "## Transport map training"
   ]
  },
  {
   "cell_type": "markdown",
   "id": "be2f17fd",
   "metadata": {},
   "source": [
    "In the following we optimize each map component $S_k$, $k \\in \\{1,...,T+2\\}$:"
   ]
  },
  {
   "cell_type": "markdown",
   "id": "2edcf214",
   "metadata": {},
   "source": [
    "* For $k=1$, map $S_1$ characterize marginal density $\\pi(\\mu)$\n",
    "* For $k=2$, map $S_2$ characterize conditional density $\\pi(\\phi|\\mu)$\n",
    "* For $k=3$, map $S_3$ characterize conditional density $\\pi(z_0|\\phi,\\mu)$\n",
    "* For $k>3$, map $S_k$ characterize conditional density $\\pi(z_{k-2}|z_{k-3},\\phi,\\mu)$"
   ]
  },
  {
   "cell_type": "markdown",
   "id": "33f7e124",
   "metadata": {},
   "source": [
    "Definition of log-conditional density from map component $S_k$"
   ]
  },
  {
   "cell_type": "code",
   "execution_count": 7,
   "id": "0b585e7d",
   "metadata": {
    "execution": {
     "iopub.execute_input": "2024-03-21T17:44:52.643967Z",
     "iopub.status.busy": "2024-03-21T17:44:52.643795Z",
     "iopub.status.idle": "2024-03-21T17:44:52.646522Z",
     "shell.execute_reply": "2024-03-21T17:44:52.646037Z"
    }
   },
   "outputs": [],
   "source": [
    "def log_cond_pullback_pdf(triMap,eta,x):\n",
    "    r = triMap.Evaluate(x)\n",
    "    log_pdf = eta.logpdf(r.T)+triMap.LogDeterminant(x)\n",
    "    return log_pdf"
   ]
  },
  {
   "cell_type": "markdown",
   "id": "4c4fe749",
   "metadata": {},
   "source": [
    "### Generating training and testing samples"
   ]
  },
  {
   "cell_type": "markdown",
   "id": "f85583e3",
   "metadata": {},
   "source": [
    "From training samples generated with the known function we compare accuracy of the transport map induced density using different parameterization and a limited number of training samples."
   ]
  },
  {
   "cell_type": "code",
   "execution_count": 8,
   "id": "008f9150",
   "metadata": {
    "execution": {
     "iopub.execute_input": "2024-03-21T17:44:52.648396Z",
     "iopub.status.busy": "2024-03-21T17:44:52.648229Z",
     "iopub.status.idle": "2024-03-21T17:44:52.658992Z",
     "shell.execute_reply": "2024-03-21T17:44:52.658600Z"
    }
   },
   "outputs": [],
   "source": [
    "N = 2000 #Number of training samples\n",
    "X = generate_SV_samples(d, N)\n",
    "\n",
    "Ntest = 5000 # Number of testing samples\n",
    "Xtest = generate_SV_samples(d,Ntest)"
   ]
  },
  {
   "cell_type": "markdown",
   "id": "e197b2ec",
   "metadata": {},
   "source": [
    "### Objective function and gradient"
   ]
  },
  {
   "cell_type": "markdown",
   "id": "fe519be7",
   "metadata": {},
   "source": [
    "We use the minimization of negative log-likelihood to optimize map components."
   ]
  },
  {
   "cell_type": "markdown",
   "id": "683d6e48",
   "metadata": {},
   "source": [
    "For map component $k$, the objective function is given by \n",
    "\n",
    "$$\n",
    "J_k(\\mathbf{w}_k) = - \\frac{1}{N}\\sum_{i=1}^N \\left( \\log\\eta\\left(S_k(\\mathbf{x}_{1:k}^i;\\mathbf{w}_k)\\right) + \\log \\frac{\\partial S_k(\\mathbf{x}_{1:k}^i;\\mathbf{w}_k)}{\\partial x_k}\\right)\n",
    "$$"
   ]
  },
  {
   "cell_type": "markdown",
   "id": "b39fc53d",
   "metadata": {},
   "source": [
    "and corresponding gradient\n",
    "$$\n",
    "\\nabla_{\\mathbf{w}_k}J_k(\\mathbf{w}_k) = - \\frac{1}{N}\\sum_{i=1}^N \\left(\\left[\\nabla_{\\mathbf{w}_k}S_k(\\mathbf{x}_{1:k}^i;\\mathbf{w}_k)\\right]^T \\nabla_\\mathbf{r}\\log \\eta \\left(S_k\n",
    "(\\mathbf{x}_{1:k}^i;\\mathbf{w}_k)\\right) - \\frac{\\partial \\nabla_{\\mathbf{w}_k}S_k(\\mathbf{x}_{1:k}^i;\\mathbf{w}_k)}{\\partial x_k} \\left[\\frac{\\partial S_k(\\mathbf{x}_{1:k}^i;\\mathbf{w}_k)}{\\partial x_k}\\right]^{-1}\\right),\n",
    "$$"
   ]
  },
  {
   "cell_type": "code",
   "execution_count": 9,
   "id": "f56c492c",
   "metadata": {
    "execution": {
     "iopub.execute_input": "2024-03-21T17:44:52.660872Z",
     "iopub.status.busy": "2024-03-21T17:44:52.660709Z",
     "iopub.status.idle": "2024-03-21T17:44:52.664105Z",
     "shell.execute_reply": "2024-03-21T17:44:52.663714Z"
    }
   },
   "outputs": [],
   "source": [
    "### Negative log likelihood objective\n",
    "def obj(coeffs, tri_map,x):\n",
    "    \"\"\" Evaluates the log-likelihood of the samples using the map-induced density. \"\"\"\n",
    "    num_points = x.shape[1]\n",
    "    tri_map.SetCoeffs(coeffs)\n",
    "\n",
    "    # Compute the map-induced density at each point \n",
    "    map_of_x = tri_map.Evaluate(x)\n",
    "\n",
    "    rho = multivariate_normal(np.zeros(tri_map.outputDim),np.eye(tri_map.outputDim))\n",
    "    rho_of_map_of_x = rho.logpdf(map_of_x.T)\n",
    "    log_det = tri_map.LogDeterminant(x)\n",
    "\n",
    "    # Return the negative log-likelihood of the entire dataset\n",
    "    return -np.sum(rho_of_map_of_x + log_det)/num_points\n",
    "\n",
    "def grad_obj(coeffs, tri_map, x):\n",
    "    \"\"\" Returns the gradient of the log-likelihood objective wrt the map parameters. \"\"\"\n",
    "    num_points = x.shape[1]\n",
    "    tri_map.SetCoeffs(coeffs)\n",
    "\n",
    "    # Evaluate the map\n",
    "    map_of_x = tri_map.Evaluate(x)\n",
    "\n",
    "    # Now compute the inner product of the map jacobian (\\nabla_w S) and the gradient (which is just -S(x) here)\n",
    "    grad_rho_of_map_of_x = -tri_map.CoeffGrad(x, map_of_x)\n",
    "\n",
    "    # Get the gradient of the log determinant with respect to the map coefficients\n",
    "    grad_log_det = tri_map.LogDeterminantCoeffGrad(x)\n",
    "    \n",
    "    return -np.sum(grad_rho_of_map_of_x + grad_log_det, 1)/num_points"
   ]
  },
  {
   "cell_type": "markdown",
   "id": "0d9ba8e3",
   "metadata": {},
   "source": [
    "### Training total order 1 map"
   ]
  },
  {
   "cell_type": "markdown",
   "id": "7fe73803",
   "metadata": {},
   "source": [
    "Here we use a total order 1 multivariate expansion to parameterize each component $S_k$, $k \\in \\{1,...,T+2\\}$."
   ]
  },
  {
   "cell_type": "code",
   "execution_count": 10,
   "id": "f84aa70c",
   "metadata": {
    "execution": {
     "iopub.execute_input": "2024-03-21T17:44:52.665947Z",
     "iopub.status.busy": "2024-03-21T17:44:52.665780Z",
     "iopub.status.idle": "2024-03-21T17:44:52.668196Z",
     "shell.execute_reply": "2024-03-21T17:44:52.667803Z"
    }
   },
   "outputs": [],
   "source": [
    "opts = mt.MapOptions()\n",
    "opts.basisType = mt.BasisTypes.HermiteFunctions "
   ]
  },
  {
   "cell_type": "markdown",
   "id": "3aafe969",
   "metadata": {},
   "source": [
    "#### Optimization"
   ]
  },
  {
   "cell_type": "code",
   "execution_count": 11,
   "id": "327ead41",
   "metadata": {
    "execution": {
     "iopub.execute_input": "2024-03-21T17:44:52.669877Z",
     "iopub.status.busy": "2024-03-21T17:44:52.669716Z",
     "iopub.status.idle": "2024-03-21T17:44:55.435018Z",
     "shell.execute_reply": "2024-03-21T17:44:55.434538Z"
    },
    "lines_to_next_cell": 2
   },
   "outputs": [
    {
     "name": "stderr",
     "output_type": "stream",
     "text": [
      "\r",
      "Map component:   0%|          | 0/32 [00:00<?, ?it/s]"
     ]
    },
    {
     "name": "stderr",
     "output_type": "stream",
     "text": [
      "\r",
      "Map component:  16%|█▌        | 5/32 [00:00<00:00, 43.34it/s]"
     ]
    },
    {
     "name": "stderr",
     "output_type": "stream",
     "text": [
      "\r",
      "Map component:  31%|███▏      | 10/32 [00:00<00:01, 20.81it/s]"
     ]
    },
    {
     "name": "stderr",
     "output_type": "stream",
     "text": [
      "\r",
      "Map component:  41%|████      | 13/32 [00:00<00:01, 16.84it/s]"
     ]
    },
    {
     "name": "stderr",
     "output_type": "stream",
     "text": [
      "\r",
      "Map component:  50%|█████     | 16/32 [00:00<00:01, 14.87it/s]"
     ]
    },
    {
     "name": "stderr",
     "output_type": "stream",
     "text": [
      "\r",
      "Map component:  56%|█████▋    | 18/32 [00:01<00:01, 13.71it/s]"
     ]
    },
    {
     "name": "stderr",
     "output_type": "stream",
     "text": [
      "\r",
      "Map component:  62%|██████▎   | 20/32 [00:01<00:00, 12.83it/s]"
     ]
    },
    {
     "name": "stderr",
     "output_type": "stream",
     "text": [
      "\r",
      "Map component:  69%|██████▉   | 22/32 [00:01<00:00, 11.62it/s]"
     ]
    },
    {
     "name": "stderr",
     "output_type": "stream",
     "text": [
      "\r",
      "Map component:  75%|███████▌  | 24/32 [00:01<00:00, 10.76it/s]"
     ]
    },
    {
     "name": "stderr",
     "output_type": "stream",
     "text": [
      "\r",
      "Map component:  81%|████████▏ | 26/32 [00:01<00:00, 10.03it/s]"
     ]
    },
    {
     "name": "stderr",
     "output_type": "stream",
     "text": [
      "\r",
      "Map component:  88%|████████▊ | 28/32 [00:02<00:00,  9.34it/s]"
     ]
    },
    {
     "name": "stderr",
     "output_type": "stream",
     "text": [
      "\r",
      "Map component:  91%|█████████ | 29/32 [00:02<00:00,  9.20it/s]"
     ]
    },
    {
     "name": "stderr",
     "output_type": "stream",
     "text": [
      "\r",
      "Map component:  94%|█████████▍| 30/32 [00:02<00:00,  8.83it/s]"
     ]
    },
    {
     "name": "stderr",
     "output_type": "stream",
     "text": [
      "\r",
      "Map component:  97%|█████████▋| 31/32 [00:02<00:00,  8.32it/s]"
     ]
    },
    {
     "name": "stderr",
     "output_type": "stream",
     "text": [
      "\r",
      "Map component: 100%|██████████| 32/32 [00:02<00:00,  8.17it/s]"
     ]
    },
    {
     "name": "stderr",
     "output_type": "stream",
     "text": [
      "\r",
      "Map component: 100%|██████████| 32/32 [00:02<00:00, 11.61it/s]"
     ]
    },
    {
     "name": "stderr",
     "output_type": "stream",
     "text": [
      "\n"
     ]
    }
   ],
   "source": [
    "# Total order 1 approximation\n",
    "totalOrder = 1\n",
    "logPdfTM_to1 = np.zeros((d,Ntest))\n",
    "ListCoeffs_to1=np.zeros((d,))\n",
    "for dk in tqdm(range(1,d+1),desc=\"Map component\"):\n",
    "    fixed_mset= mt.FixedMultiIndexSet(dk,totalOrder)\n",
    "    S = mt.CreateComponent(fixed_mset,opts)\n",
    "    Xtrain = X[:dk,:]\n",
    "    Xtestk = Xtest[:dk,:]\n",
    "\n",
    "    ListCoeffs_to1[dk-1]=S.numCoeffs\n",
    "\n",
    "    options={'gtol': 1e-3, 'disp': False}\n",
    "    res = minimize(obj, S.CoeffMap(), args=(S, Xtrain), jac=grad_obj, method='BFGS', options=options)\n",
    "    \n",
    "    # Reference density\n",
    "    eta = multivariate_normal(np.zeros(S.outputDim),np.eye(S.outputDim))\n",
    "\n",
    "    # Compute log-conditional density at testing samples\n",
    "    logPdfTM_to1[dk-1,:]=log_cond_pullback_pdf(S,eta,Xtestk)\n"
   ]
  },
  {
   "cell_type": "markdown",
   "id": "03e5c2cb",
   "metadata": {},
   "source": [
    "#### Compute KL divergence error\n",
    "\n",
    "Since we know what the true is for problem we can compute the KL divergence $D_{KL}(\\pi(\\mathbf{x}_t)||S^\\sharp \\eta)$ between the map-induced density and the true density."
   ]
  },
  {
   "cell_type": "code",
   "execution_count": 12,
   "id": "f3978f55",
   "metadata": {
    "execution": {
     "iopub.execute_input": "2024-03-21T17:44:55.439182Z",
     "iopub.status.busy": "2024-03-21T17:44:55.437649Z",
     "iopub.status.idle": "2024-03-21T17:44:55.464197Z",
     "shell.execute_reply": "2024-03-21T17:44:55.463758Z"
    }
   },
   "outputs": [],
   "source": [
    "logPdfSV = SV_log_pdf(Xtest) # true log-pdf\n",
    "\n",
    "def compute_joint_KL(logPdfSV,logPdfTM):\n",
    "    KL = np.zeros((logPdfSV.shape[0],))\n",
    "    for k in range(1,d+1):\n",
    "        KL[k-1]=np.mean(np.sum(logPdfSV[:k,:],0)-np.sum(logPdfTM[:k,:],0))\n",
    "    return KL\n",
    "\n",
    "# Compute joint KL divergence for total order 1 approximation\n",
    "KL_to1 = compute_joint_KL(logPdfSV,logPdfTM_to1)"
   ]
  },
  {
   "cell_type": "markdown",
   "id": "a6ec96db",
   "metadata": {},
   "source": [
    "### Training total order 2 map"
   ]
  },
  {
   "cell_type": "markdown",
   "id": "e23759e0",
   "metadata": {},
   "source": [
    "Here we use a total order 2 multivariate expansion to parameterize each component $S_k$, $k \\in \\{1,...,T+2\\}$."
   ]
  },
  {
   "cell_type": "markdown",
   "id": "a7e2c419",
   "metadata": {},
   "source": [
    "#### Optimization\n",
    "\n",
    "This step can take few minutes depending on the number of time steps set at the definition of the problem."
   ]
  },
  {
   "cell_type": "code",
   "execution_count": 13,
   "id": "cec1039a",
   "metadata": {
    "execution": {
     "iopub.execute_input": "2024-03-21T17:44:55.468262Z",
     "iopub.status.busy": "2024-03-21T17:44:55.466959Z",
     "iopub.status.idle": "2024-03-21T17:50:36.996002Z",
     "shell.execute_reply": "2024-03-21T17:50:36.995509Z"
    },
    "lines_to_next_cell": 2
   },
   "outputs": [
    {
     "name": "stderr",
     "output_type": "stream",
     "text": [
      "\r",
      "Map component:   0%|          | 0/32 [00:00<?, ?it/s]"
     ]
    },
    {
     "name": "stderr",
     "output_type": "stream",
     "text": [
      "\r",
      "Map component:   6%|▋         | 2/32 [00:00<00:06,  5.00it/s]"
     ]
    },
    {
     "name": "stderr",
     "output_type": "stream",
     "text": [
      "\r",
      "Map component:   9%|▉         | 3/32 [00:00<00:05,  4.86it/s]"
     ]
    },
    {
     "name": "stderr",
     "output_type": "stream",
     "text": [
      "\r",
      "Map component:  12%|█▎        | 4/32 [00:01<00:08,  3.46it/s]"
     ]
    },
    {
     "name": "stderr",
     "output_type": "stream",
     "text": [
      "\r",
      "Map component:  16%|█▌        | 5/32 [00:01<00:13,  2.01it/s]"
     ]
    },
    {
     "name": "stderr",
     "output_type": "stream",
     "text": [
      "\r",
      "Map component:  19%|█▉        | 6/32 [00:03<00:18,  1.38it/s]"
     ]
    },
    {
     "name": "stderr",
     "output_type": "stream",
     "text": [
      "\r",
      "Map component:  22%|██▏       | 7/32 [00:04<00:23,  1.09it/s]"
     ]
    },
    {
     "name": "stderr",
     "output_type": "stream",
     "text": [
      "\r",
      "Map component:  25%|██▌       | 8/32 [00:05<00:22,  1.06it/s]"
     ]
    },
    {
     "name": "stderr",
     "output_type": "stream",
     "text": [
      "\r",
      "Map component:  28%|██▊       | 9/32 [00:06<00:25,  1.13s/it]"
     ]
    },
    {
     "name": "stderr",
     "output_type": "stream",
     "text": [
      "\r",
      "Map component:  31%|███▏      | 10/32 [00:09<00:34,  1.56s/it]"
     ]
    },
    {
     "name": "stderr",
     "output_type": "stream",
     "text": [
      "\r",
      "Map component:  34%|███▍      | 11/32 [00:12<00:43,  2.06s/it]"
     ]
    },
    {
     "name": "stderr",
     "output_type": "stream",
     "text": [
      "\r",
      "Map component:  38%|███▊      | 12/32 [00:15<00:48,  2.41s/it]"
     ]
    },
    {
     "name": "stderr",
     "output_type": "stream",
     "text": [
      "\r",
      "Map component:  41%|████      | 13/32 [00:21<01:01,  3.25s/it]"
     ]
    },
    {
     "name": "stderr",
     "output_type": "stream",
     "text": [
      "\r",
      "Map component:  44%|████▍     | 14/32 [00:25<01:02,  3.49s/it]"
     ]
    },
    {
     "name": "stderr",
     "output_type": "stream",
     "text": [
      "\r",
      "Map component:  47%|████▋     | 15/32 [00:30<01:10,  4.17s/it]"
     ]
    },
    {
     "name": "stderr",
     "output_type": "stream",
     "text": [
      "\r",
      "Map component:  50%|█████     | 16/32 [00:41<01:35,  5.99s/it]"
     ]
    },
    {
     "name": "stderr",
     "output_type": "stream",
     "text": [
      "\r",
      "Map component:  53%|█████▎    | 17/32 [00:49<01:41,  6.80s/it]"
     ]
    },
    {
     "name": "stderr",
     "output_type": "stream",
     "text": [
      "\r",
      "Map component:  56%|█████▋    | 18/32 [01:01<01:54,  8.16s/it]"
     ]
    },
    {
     "name": "stderr",
     "output_type": "stream",
     "text": [
      "\r",
      "Map component:  59%|█████▉    | 19/32 [01:11<01:53,  8.76s/it]"
     ]
    },
    {
     "name": "stderr",
     "output_type": "stream",
     "text": [
      "\r",
      "Map component:  62%|██████▎   | 20/32 [01:23<01:56,  9.70s/it]"
     ]
    },
    {
     "name": "stderr",
     "output_type": "stream",
     "text": [
      "\r",
      "Map component:  66%|██████▌   | 21/32 [01:34<01:53, 10.29s/it]"
     ]
    },
    {
     "name": "stderr",
     "output_type": "stream",
     "text": [
      "\r",
      "Map component:  69%|██████▉   | 22/32 [01:46<01:45, 10.57s/it]"
     ]
    },
    {
     "name": "stderr",
     "output_type": "stream",
     "text": [
      "\r",
      "Map component:  72%|███████▏  | 23/32 [02:00<01:46, 11.79s/it]"
     ]
    },
    {
     "name": "stderr",
     "output_type": "stream",
     "text": [
      "\r",
      "Map component:  75%|███████▌  | 24/32 [02:14<01:38, 12.25s/it]"
     ]
    },
    {
     "name": "stderr",
     "output_type": "stream",
     "text": [
      "\r",
      "Map component:  78%|███████▊  | 25/32 [02:33<01:40, 14.42s/it]"
     ]
    },
    {
     "name": "stderr",
     "output_type": "stream",
     "text": [
      "\r",
      "Map component:  81%|████████▏ | 26/32 [02:53<01:37, 16.23s/it]"
     ]
    },
    {
     "name": "stderr",
     "output_type": "stream",
     "text": [
      "\r",
      "Map component:  84%|████████▍ | 27/32 [03:13<01:26, 17.24s/it]"
     ]
    },
    {
     "name": "stderr",
     "output_type": "stream",
     "text": [
      "\r",
      "Map component:  88%|████████▊ | 28/32 [03:41<01:22, 20.52s/it]"
     ]
    },
    {
     "name": "stderr",
     "output_type": "stream",
     "text": [
      "\r",
      "Map component:  91%|█████████ | 29/32 [04:03<01:02, 20.93s/it]"
     ]
    },
    {
     "name": "stderr",
     "output_type": "stream",
     "text": [
      "\r",
      "Map component:  94%|█████████▍| 30/32 [04:39<00:50, 25.34s/it]"
     ]
    },
    {
     "name": "stderr",
     "output_type": "stream",
     "text": [
      "\r",
      "Map component:  97%|█████████▋| 31/32 [05:11<00:27, 27.39s/it]"
     ]
    },
    {
     "name": "stderr",
     "output_type": "stream",
     "text": [
      "\r",
      "Map component: 100%|██████████| 32/32 [05:41<00:00, 28.19s/it]"
     ]
    },
    {
     "name": "stderr",
     "output_type": "stream",
     "text": [
      "\r",
      "Map component: 100%|██████████| 32/32 [05:41<00:00, 10.67s/it]"
     ]
    },
    {
     "name": "stderr",
     "output_type": "stream",
     "text": [
      "\n"
     ]
    }
   ],
   "source": [
    "# Total order 2 approximation\n",
    "totalOrder = 2\n",
    "logPdfTM_to2 = np.zeros((d,Ntest))\n",
    "ListCoeffs_to2=np.zeros((d,))\n",
    "for dk in tqdm(range(1,d+1),desc=\"Map component\"):\n",
    "    fixed_mset= mt.FixedMultiIndexSet(dk,totalOrder)\n",
    "    S = mt.CreateComponent(fixed_mset,opts)\n",
    "    Xtrain = X[:dk,:]\n",
    "    Xtestk = Xtest[:dk,:]\n",
    "\n",
    "    ListCoeffs_to2[dk-1]=S.numCoeffs\n",
    "\n",
    "    options={'gtol': 1e-3, 'disp': False}\n",
    "    res = minimize(obj, S.CoeffMap(), args=(S, Xtrain), jac=grad_obj, method='BFGS', options=options)\n",
    "    \n",
    "    # Reference density\n",
    "    eta = multivariate_normal(np.zeros(S.outputDim),np.eye(S.outputDim))\n",
    "\n",
    "    # Compute log-conditional density at testing samples\n",
    "    logPdfTM_to2[dk-1,:]=log_cond_pullback_pdf(S,eta,Xtestk)\n"
   ]
  },
  {
   "cell_type": "markdown",
   "id": "1e9896a1",
   "metadata": {},
   "source": [
    "#### Compute KL divergence error"
   ]
  },
  {
   "cell_type": "code",
   "execution_count": 14,
   "id": "b2adb05f",
   "metadata": {
    "execution": {
     "iopub.execute_input": "2024-03-21T17:50:36.998589Z",
     "iopub.status.busy": "2024-03-21T17:50:36.998234Z",
     "iopub.status.idle": "2024-03-21T17:50:37.007007Z",
     "shell.execute_reply": "2024-03-21T17:50:37.006580Z"
    }
   },
   "outputs": [],
   "source": [
    "# Compute joint KL divergence for total order 2 approximation\n",
    "KL_to2 = compute_joint_KL(logPdfSV,logPdfTM_to2)"
   ]
  },
  {
   "cell_type": "markdown",
   "id": "e3456546",
   "metadata": {},
   "source": [
    "### Training sparse map"
   ]
  },
  {
   "cell_type": "markdown",
   "id": "c0361302",
   "metadata": {},
   "source": [
    "Here we use the prior knowledge of the conditional independence property of the target density $\\pi(\\mathbf{x}_T)$ to parameterize map components with a map structure."
   ]
  },
  {
   "cell_type": "markdown",
   "id": "57f56da8",
   "metadata": {},
   "source": [
    "#### Prior knowledge used to parameterize map components"
   ]
  },
  {
   "cell_type": "markdown",
   "id": "f8ceaac4",
   "metadata": {},
   "source": [
    "From the independence structure mentionned in the problem formulation we have:\n",
    "\n",
    "\n",
    "*   $\\pi(\\mu,\\phi)=\\pi(\\mu)\\pi(\\phi)$, meaning $S_2$ only dependes on $\\phi$\n",
    "*   $\\pi(z_{k-2}|z_{k-3},...,z_{0},\\phi,\\mu)=\\pi(z_{k-2}|z_{k-3},\\phi,\\mu),\\,\\, k>3$,  meaning $S_k$, only depends on $z_{k-2}$,$z_{k-3}$, $\\phi$ and $\\mu$\n",
    "\n"
   ]
  },
  {
   "cell_type": "markdown",
   "id": "521e1225",
   "metadata": {},
   "source": [
    "Complexity of map component can also be deducted from problem formulation:\n",
    "\n",
    "\n",
    "*   $\\pi(\\mu)$ being a normal distribution, $S_1$ should be of order 1.\n",
    "*  $\\pi(\\phi)$ is non-Gaussian such that $S_2$ should be nonlinear.\n",
    "*  $\\pi(z_{k-2}|z_{k-3},\\phi,\\mu)$ can be represented by a total order 2 parameterization due to the linear autoregressive model.\n",
    "\n",
    "\n"
   ]
  },
  {
   "cell_type": "markdown",
   "id": "6faabf94",
   "metadata": {},
   "source": [
    "Hence multi-index sets used for this problem are:\n",
    "\n",
    "\n",
    "*   $k=1$: 1D expansion of order $\\geq$ 1\n",
    "*   $k=2$: 1D expansion (depending on last component) of high order $>1$\n",
    "*   $k=3$: 3D expansion of total order 2\n",
    "*   $k>3$: 4D expansion (depending on first two and last two components) of total order 2\n",
    "\n"
   ]
  },
  {
   "cell_type": "markdown",
   "id": "ac245384",
   "metadata": {},
   "source": [
    "#### Optimization"
   ]
  },
  {
   "cell_type": "code",
   "execution_count": 15,
   "id": "afb95e31",
   "metadata": {
    "execution": {
     "iopub.execute_input": "2024-03-21T17:50:37.009776Z",
     "iopub.status.busy": "2024-03-21T17:50:37.009459Z",
     "iopub.status.idle": "2024-03-21T17:50:52.384923Z",
     "shell.execute_reply": "2024-03-21T17:50:52.384450Z"
    }
   },
   "outputs": [
    {
     "name": "stderr",
     "output_type": "stream",
     "text": [
      "\r",
      "Map component:   0%|          | 0/32 [00:00<?, ?it/s]"
     ]
    },
    {
     "name": "stderr",
     "output_type": "stream",
     "text": [
      "\r",
      "Map component:   6%|▋         | 2/32 [00:03<00:55,  1.86s/it]"
     ]
    },
    {
     "name": "stderr",
     "output_type": "stream",
     "text": [
      "\r",
      "Map component:   9%|▉         | 3/32 [00:03<00:34,  1.18s/it]"
     ]
    },
    {
     "name": "stderr",
     "output_type": "stream",
     "text": [
      "\r",
      "Map component:  12%|█▎        | 4/32 [00:04<00:25,  1.11it/s]"
     ]
    },
    {
     "name": "stderr",
     "output_type": "stream",
     "text": [
      "\r",
      "Map component:  16%|█▌        | 5/32 [00:04<00:19,  1.41it/s]"
     ]
    },
    {
     "name": "stderr",
     "output_type": "stream",
     "text": [
      "\r",
      "Map component:  19%|█▉        | 6/32 [00:05<00:15,  1.72it/s]"
     ]
    },
    {
     "name": "stderr",
     "output_type": "stream",
     "text": [
      "\r",
      "Map component:  22%|██▏       | 7/32 [00:05<00:12,  1.94it/s]"
     ]
    },
    {
     "name": "stderr",
     "output_type": "stream",
     "text": [
      "\r",
      "Map component:  25%|██▌       | 8/32 [00:05<00:10,  2.31it/s]"
     ]
    },
    {
     "name": "stderr",
     "output_type": "stream",
     "text": [
      "\r",
      "Map component:  28%|██▊       | 9/32 [00:06<00:10,  2.21it/s]"
     ]
    },
    {
     "name": "stderr",
     "output_type": "stream",
     "text": [
      "\r",
      "Map component:  31%|███▏      | 10/32 [00:06<00:09,  2.42it/s]"
     ]
    },
    {
     "name": "stderr",
     "output_type": "stream",
     "text": [
      "\r",
      "Map component:  34%|███▍      | 11/32 [00:07<00:09,  2.24it/s]"
     ]
    },
    {
     "name": "stderr",
     "output_type": "stream",
     "text": [
      "\r",
      "Map component:  38%|███▊      | 12/32 [00:07<00:10,  1.96it/s]"
     ]
    },
    {
     "name": "stderr",
     "output_type": "stream",
     "text": [
      "\r",
      "Map component:  41%|████      | 13/32 [00:08<00:09,  2.07it/s]"
     ]
    },
    {
     "name": "stderr",
     "output_type": "stream",
     "text": [
      "\r",
      "Map component:  44%|████▍     | 14/32 [00:08<00:08,  2.18it/s]"
     ]
    },
    {
     "name": "stderr",
     "output_type": "stream",
     "text": [
      "\r",
      "Map component:  47%|████▋     | 15/32 [00:08<00:07,  2.16it/s]"
     ]
    },
    {
     "name": "stderr",
     "output_type": "stream",
     "text": [
      "\r",
      "Map component:  50%|█████     | 16/32 [00:09<00:06,  2.49it/s]"
     ]
    },
    {
     "name": "stderr",
     "output_type": "stream",
     "text": [
      "\r",
      "Map component:  53%|█████▎    | 17/32 [00:09<00:05,  2.56it/s]"
     ]
    },
    {
     "name": "stderr",
     "output_type": "stream",
     "text": [
      "\r",
      "Map component:  56%|█████▋    | 18/32 [00:10<00:05,  2.51it/s]"
     ]
    },
    {
     "name": "stderr",
     "output_type": "stream",
     "text": [
      "\r",
      "Map component:  59%|█████▉    | 19/32 [00:10<00:04,  2.84it/s]"
     ]
    },
    {
     "name": "stderr",
     "output_type": "stream",
     "text": [
      "\r",
      "Map component:  62%|██████▎   | 20/32 [00:10<00:04,  2.73it/s]"
     ]
    },
    {
     "name": "stderr",
     "output_type": "stream",
     "text": [
      "\r",
      "Map component:  66%|██████▌   | 21/32 [00:10<00:03,  2.88it/s]"
     ]
    },
    {
     "name": "stderr",
     "output_type": "stream",
     "text": [
      "\r",
      "Map component:  69%|██████▉   | 22/32 [00:11<00:03,  2.79it/s]"
     ]
    },
    {
     "name": "stderr",
     "output_type": "stream",
     "text": [
      "\r",
      "Map component:  72%|███████▏  | 23/32 [00:11<00:03,  2.98it/s]"
     ]
    },
    {
     "name": "stderr",
     "output_type": "stream",
     "text": [
      "\r",
      "Map component:  75%|███████▌  | 24/32 [00:12<00:03,  2.58it/s]"
     ]
    },
    {
     "name": "stderr",
     "output_type": "stream",
     "text": [
      "\r",
      "Map component:  78%|███████▊  | 25/32 [00:12<00:02,  2.62it/s]"
     ]
    },
    {
     "name": "stderr",
     "output_type": "stream",
     "text": [
      "\r",
      "Map component:  81%|████████▏ | 26/32 [00:12<00:02,  2.55it/s]"
     ]
    },
    {
     "name": "stderr",
     "output_type": "stream",
     "text": [
      "\r",
      "Map component:  84%|████████▍ | 27/32 [00:13<00:01,  2.85it/s]"
     ]
    },
    {
     "name": "stderr",
     "output_type": "stream",
     "text": [
      "\r",
      "Map component:  88%|████████▊ | 28/32 [00:13<00:01,  2.76it/s]"
     ]
    },
    {
     "name": "stderr",
     "output_type": "stream",
     "text": [
      "\r",
      "Map component:  91%|█████████ | 29/32 [00:13<00:00,  3.01it/s]"
     ]
    },
    {
     "name": "stderr",
     "output_type": "stream",
     "text": [
      "\r",
      "Map component:  94%|█████████▍| 30/32 [00:14<00:00,  2.13it/s]"
     ]
    },
    {
     "name": "stderr",
     "output_type": "stream",
     "text": [
      "\r",
      "Map component:  97%|█████████▋| 31/32 [00:14<00:00,  2.27it/s]"
     ]
    },
    {
     "name": "stderr",
     "output_type": "stream",
     "text": [
      "\r",
      "Map component: 100%|██████████| 32/32 [00:15<00:00,  2.40it/s]"
     ]
    },
    {
     "name": "stderr",
     "output_type": "stream",
     "text": [
      "\r",
      "Map component: 100%|██████████| 32/32 [00:15<00:00,  2.08it/s]"
     ]
    },
    {
     "name": "stderr",
     "output_type": "stream",
     "text": [
      "\n"
     ]
    }
   ],
   "source": [
    "totalOrder = 2\n",
    "logPdfTM_sa = np.zeros((d,Ntest))\n",
    "ListCoeffs_sa = np.zeros((d,))\n",
    "\n",
    "# MultiIndexSet for map S_k, k>3\n",
    "mset_to= mt.MultiIndexSet.CreateTotalOrder(4,totalOrder,mt.NoneLim()) \n",
    "\n",
    "maxOrder=9 # order for map S_2\n",
    "for dk in tqdm(range(1,d+1),desc=\"Map component\"):\n",
    "    if dk == 1:\n",
    "        fixed_mset= mt.FixedMultiIndexSet(1,totalOrder)\n",
    "        S = mt.CreateComponent(fixed_mset,opts)\n",
    "        Xtrain = X[dk-1,:].reshape(1,-1)\n",
    "        Xtestk = Xtest[dk-1,:].reshape(1,-1)\n",
    "    elif dk == 2:\n",
    "        fixed_mset= mt.FixedMultiIndexSet(1,maxOrder)\n",
    "        S = mt.CreateComponent(fixed_mset,opts)\n",
    "        Xtrain = X[dk-1,:].reshape(1,-1)\n",
    "        Xtestk = Xtest[dk-1,:].reshape(1,-1) \n",
    "    elif dk==3:\n",
    "        fixed_mset= mt.FixedMultiIndexSet(dk,totalOrder)\n",
    "        S = mt.CreateComponent(fixed_mset,opts)\n",
    "        Xtrain = X[:dk,:]\n",
    "        Xtestk = Xtest[:dk,:]\n",
    "    else:\n",
    "        multis=np.zeros((mset_to.Size(),dk))\n",
    "        for s in range(mset_to.Size()):\n",
    "            multis_to = np.array([mset_to[s].tolist()])\n",
    "            multis[s,:2]=multis_to[0,:2]\n",
    "            multis[s,-2:]=multis_to[0,-2:]\n",
    "        mset = mt.MultiIndexSet(multis)\n",
    "        fixed_mset = mset.fix(True)\n",
    "        S = mt.CreateComponent(fixed_mset,opts)\n",
    "        Xtrain = X[:dk,:]\n",
    "        Xtestk = Xtest[:dk,:]\n",
    "\n",
    "    ListCoeffs_sa[dk-1]=S.numCoeffs\n",
    "\n",
    "    options={'gtol': 1e-3, 'disp': False}\n",
    "    res = minimize(obj, S.CoeffMap(), args=(S, Xtrain), jac=grad_obj, method='BFGS', options=options)\n",
    "    rho = multivariate_normal(np.zeros(S.outputDim),np.eye(S.outputDim))    \n",
    "    \n",
    "    logPdfTM_sa[dk-1,:]=log_cond_pullback_pdf(S,rho,Xtestk)"
   ]
  },
  {
   "cell_type": "markdown",
   "id": "720a1587",
   "metadata": {},
   "source": [
    "#### Compute KL divergence error"
   ]
  },
  {
   "cell_type": "code",
   "execution_count": 16,
   "id": "26cccf8a",
   "metadata": {
    "execution": {
     "iopub.execute_input": "2024-03-21T17:50:52.389243Z",
     "iopub.status.busy": "2024-03-21T17:50:52.387877Z",
     "iopub.status.idle": "2024-03-21T17:50:52.398310Z",
     "shell.execute_reply": "2024-03-21T17:50:52.397871Z"
    }
   },
   "outputs": [],
   "source": [
    "# Compute joint KL divergence\n",
    "KL_sa = compute_joint_KL(logPdfSV,logPdfTM_sa)"
   ]
  },
  {
   "cell_type": "markdown",
   "id": "bf87687c",
   "metadata": {},
   "source": [
    "## Compare approximations"
   ]
  },
  {
   "cell_type": "markdown",
   "id": "0bb992a5",
   "metadata": {},
   "source": [
    "### KL divergence"
   ]
  },
  {
   "cell_type": "code",
   "execution_count": 17,
   "id": "01889136",
   "metadata": {
    "execution": {
     "iopub.execute_input": "2024-03-21T17:50:52.414360Z",
     "iopub.status.busy": "2024-03-21T17:50:52.401024Z",
     "iopub.status.idle": "2024-03-21T17:50:52.759746Z",
     "shell.execute_reply": "2024-03-21T17:50:52.759315Z"
    }
   },
   "outputs": [
    {
     "name": "stderr",
     "output_type": "stream",
     "text": [
      "<>:8: SyntaxWarning: invalid escape sequence '\\p'\n",
      "<>:8: SyntaxWarning: invalid escape sequence '\\p'\n",
      "/tmp/ipykernel_268/1071692651.py:8: SyntaxWarning: invalid escape sequence '\\p'\n",
      "  ax.set_ylabel('$D_{KL}(\\pi(\\mathbf{x}_t)||S^\\sharp \\eta)$')\n"
     ]
    },
    {
     "data": {
      "image/png": "[encoded data removed]",
      "text/plain": [
       "<Figure size 704x528 with 1 Axes>"
      ]
     },
     "metadata": {},
     "output_type": "display_data"
    }
   ],
   "source": [
    "# Compare map approximations \n",
    "fig, ax = plt.subplots()\n",
    "ax.plot(range(1,d+1),KL_to1,'-o',label='Total order 1')\n",
    "ax.plot(range(1,d+1),KL_to2,'-o',label='Total order 2')\n",
    "ax.plot(range(1,d+1),KL_sa,'-o',label='Sparse MultiIndexSet')\n",
    "ax.set_yscale('log')\n",
    "ax.set_xlabel('d')\n",
    "ax.set_ylabel('$D_{KL}(\\pi(\\mathbf{x}_t)||S^\\sharp \\eta)$')\n",
    "plt.legend()\n",
    "plt.show()"
   ]
  },
  {
   "cell_type": "markdown",
   "id": "7b8e9f34",
   "metadata": {},
   "source": [
    "Usually increasing map complexity will improve map approximation. However when the number of parameters increases too much compared to the number of samples, computed map overfits the data which lead to worst approximation. This overfitting can be seen in this examples when looking at the total order 2 approximation that rapidly loses accuracy when the dimension increases.\n",
    "\n",
    "Using sparse multi-index sets help reduces the increase of parameters when the dimension increases leading to better approximation for all dimensions."
   ]
  },
  {
   "cell_type": "markdown",
   "id": "d6d2147d",
   "metadata": {},
   "source": [
    "### Map coefficients"
   ]
  },
  {
   "cell_type": "markdown",
   "id": "53d84783",
   "metadata": {},
   "source": [
    "To complement observations made above, we visualize the number of parameters (polyniomal coefficients) for each map parameterization."
   ]
  },
  {
   "cell_type": "code",
   "execution_count": 18,
   "id": "17062a2f",
   "metadata": {
    "execution": {
     "iopub.execute_input": "2024-03-21T17:50:52.761921Z",
     "iopub.status.busy": "2024-03-21T17:50:52.761576Z",
     "iopub.status.idle": "2024-03-21T17:50:52.954225Z",
     "shell.execute_reply": "2024-03-21T17:50:52.953710Z"
    }
   },
   "outputs": [
    {
     "data": {
      "image/png": "[encoded data removed]",
      "text/plain": [
       "<Figure size 704x528 with 1 Axes>"
      ]
     },
     "metadata": {},
     "output_type": "display_data"
    }
   ],
   "source": [
    "fig, ax =plt.subplots()\n",
    "ax.plot(range(1,d+1),ListCoeffs_to1,'-o',label='Total order 1')\n",
    "ax.plot(range(1,d+1),ListCoeffs_to2,'-o',label='Total order 2')\n",
    "ax.plot(range(1,d+1),ListCoeffs_sa,'-o',label='Sparse MultiIndexSet')\n",
    "ax.set_xlabel('d')\n",
    "ax.set_ylabel('# coefficients')\n",
    "plt.legend()\n",
    "plt.show()"
   ]
  },
  {
   "cell_type": "markdown",
   "id": "d36fada3",
   "metadata": {},
   "source": [
    "We can observe the exponential growth of the number coefficients for the total order 2 approximation. Chosen sparse multi-index sets have a fixed number of parameters which become smaller than the number of parameters of the total order 1 approximation when dimension is 15."
   ]
  },
  {
   "cell_type": "markdown",
   "id": "2c3496fd",
   "metadata": {},
   "source": [
    "Using less parameters helps error scaling with dimension but aslo helps reducing computation time for the optimization and the evaluation the transport maps."
   ]
  }
 ],
 "metadata": {
  "jupytext": {
   "formats": "ipynb,py"
  },
  "kernelspec": {
   "display_name": "Python 3 (ipykernel)",
   "language": "python",
   "name": "python3"
  },
  "language_info": {
   "codemirror_mode": {
    "name": "ipython",
    "version": 3
   },
   "file_extension": ".py",
   "mimetype": "text/x-python",
   "name": "python",
   "nbconvert_exporter": "python",
   "pygments_lexer": "ipython3",
   "version": "3.12.2"
  }
 },
 "nbformat": 4,
 "nbformat_minor": 5
}
